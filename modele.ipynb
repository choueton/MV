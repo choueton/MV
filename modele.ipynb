{
 "cells": [
  {
   "cell_type": "markdown",
   "metadata": {},
   "source": [
    "# Étape 1: Extraction des données\n",
    "Tout d'abord, extrayez les données nécessaires de votre base de données en utilisant pandas et pyodbc"
   ]
  },
  {
   "cell_type": "code",
   "execution_count": 1,
   "metadata": {},
   "outputs": [
    {
     "name": "stderr",
     "output_type": "stream",
     "text": [
      "C:\\Users\\HPC\\AppData\\Local\\Temp\\ipykernel_14996\\2934454662.py:22: UserWarning: pandas only supports SQLAlchemy connectable (engine/connection) or database string URI or sqlite3 DBAPI2 connection. Other DBAPI2 objects are not tested. Please consider using SQLAlchemy.\n",
      "  maison_data = pd.read_sql(query, conn)\n"
     ]
    }
   ],
   "source": [
    "import pyodbc\n",
    "import pandas as pd\n",
    "\n",
    "# Paramètres de connexion\n",
    "server = 'DESKTOP-JK6D8G9\\SQLEXPRESS' \n",
    "database = 'MV' \n",
    "trusted_Connection='yes'\n",
    "\n",
    "# Chaîne de connexion\n",
    "conn_str = (\n",
    "    f'DRIVER={{SQL Server}};'\n",
    "    f'SERVER={server};'\n",
    "    f'DATABASE={database};'\n",
    "    f'Trusted_Connection ={trusted_Connection} '\n",
    ")\n",
    "\n",
    "# Connexion à la base de données\n",
    "conn = pyodbc.connect(conn_str)\n",
    "\n",
    "# Chargement des données de la table Maison\n",
    "query = \"SELECT IdMaison, Ville, Commune, Quartier, Nombre_de_pieces, Nombre_de_chambres, Nombre_de_salles_de_bain, metre_carre, Descriptions, Type_de_maison, Prix_unitaire FROM Maison\"\n",
    "maison_data = pd.read_sql(query, conn)\n",
    "\n",
    "# Fermeture de la connexion\n",
    "conn.close()\n"
   ]
  },
  {
   "cell_type": "markdown",
   "metadata": {},
   "source": [
    "# Étape 2: analyser les données"
   ]
  },
  {
   "cell_type": "code",
   "execution_count": 2,
   "metadata": {},
   "outputs": [
    {
     "data": {
      "text/html": [
       "<div>\n",
       "<style scoped>\n",
       "    .dataframe tbody tr th:only-of-type {\n",
       "        vertical-align: middle;\n",
       "    }\n",
       "\n",
       "    .dataframe tbody tr th {\n",
       "        vertical-align: top;\n",
       "    }\n",
       "\n",
       "    .dataframe thead th {\n",
       "        text-align: right;\n",
       "    }\n",
       "</style>\n",
       "<table border=\"1\" class=\"dataframe\">\n",
       "  <thead>\n",
       "    <tr style=\"text-align: right;\">\n",
       "      <th></th>\n",
       "      <th>IdMaison</th>\n",
       "      <th>Ville</th>\n",
       "      <th>Commune</th>\n",
       "      <th>Quartier</th>\n",
       "      <th>Nombre_de_pieces</th>\n",
       "      <th>Nombre_de_chambres</th>\n",
       "      <th>Nombre_de_salles_de_bain</th>\n",
       "      <th>metre_carre</th>\n",
       "      <th>Descriptions</th>\n",
       "      <th>Type_de_maison</th>\n",
       "      <th>Prix_unitaire</th>\n",
       "    </tr>\n",
       "  </thead>\n",
       "  <tbody>\n",
       "    <tr>\n",
       "      <th>0</th>\n",
       "      <td>304</td>\n",
       "      <td>Abidjan</td>\n",
       "      <td>Cocody</td>\n",
       "      <td>Angré</td>\n",
       "      <td>5</td>\n",
       "      <td>3</td>\n",
       "      <td>2</td>\n",
       "      <td>200.0</td>\n",
       "      <td>Villa de luxe avec piscine et jardin</td>\n",
       "      <td>Villa</td>\n",
       "      <td>120000000.0</td>\n",
       "    </tr>\n",
       "    <tr>\n",
       "      <th>1</th>\n",
       "      <td>305</td>\n",
       "      <td>San-Pédro</td>\n",
       "      <td>Bardot</td>\n",
       "      <td>Zone Industrielle</td>\n",
       "      <td>4</td>\n",
       "      <td>3</td>\n",
       "      <td>2</td>\n",
       "      <td>180.0</td>\n",
       "      <td>Maison spacieuse proche du port</td>\n",
       "      <td>Maison</td>\n",
       "      <td>95000000.0</td>\n",
       "    </tr>\n",
       "    <tr>\n",
       "      <th>2</th>\n",
       "      <td>306</td>\n",
       "      <td>Bouaké</td>\n",
       "      <td>Ahougnansou</td>\n",
       "      <td>Belleville</td>\n",
       "      <td>3</td>\n",
       "      <td>2</td>\n",
       "      <td>1</td>\n",
       "      <td>150.0</td>\n",
       "      <td>Maison moderne avec jardin</td>\n",
       "      <td>Maison</td>\n",
       "      <td>85000000.0</td>\n",
       "    </tr>\n",
       "    <tr>\n",
       "      <th>3</th>\n",
       "      <td>307</td>\n",
       "      <td>Yamoussoukro</td>\n",
       "      <td>Kokrenou</td>\n",
       "      <td>Quartier Présidentiel</td>\n",
       "      <td>4</td>\n",
       "      <td>3</td>\n",
       "      <td>2</td>\n",
       "      <td>220.0</td>\n",
       "      <td>Grande villa avec garage et piscine</td>\n",
       "      <td>Villa</td>\n",
       "      <td>115000000.0</td>\n",
       "    </tr>\n",
       "    <tr>\n",
       "      <th>4</th>\n",
       "      <td>308</td>\n",
       "      <td>Daloa</td>\n",
       "      <td>Gbatta</td>\n",
       "      <td>Quartier Résidentiel</td>\n",
       "      <td>2</td>\n",
       "      <td>1</td>\n",
       "      <td>1</td>\n",
       "      <td>100.0</td>\n",
       "      <td>Petit appartement rénové</td>\n",
       "      <td>Appartement</td>\n",
       "      <td>65000000.0</td>\n",
       "    </tr>\n",
       "    <tr>\n",
       "      <th>...</th>\n",
       "      <td>...</td>\n",
       "      <td>...</td>\n",
       "      <td>...</td>\n",
       "      <td>...</td>\n",
       "      <td>...</td>\n",
       "      <td>...</td>\n",
       "      <td>...</td>\n",
       "      <td>...</td>\n",
       "      <td>...</td>\n",
       "      <td>...</td>\n",
       "      <td>...</td>\n",
       "    </tr>\n",
       "    <tr>\n",
       "      <th>195</th>\n",
       "      <td>499</td>\n",
       "      <td>Man</td>\n",
       "      <td>Bangolo</td>\n",
       "      <td>Quartier Central</td>\n",
       "      <td>4</td>\n",
       "      <td>3</td>\n",
       "      <td>2</td>\n",
       "      <td>160.0</td>\n",
       "      <td>Maison avec vue sur les montagnes</td>\n",
       "      <td>Maison</td>\n",
       "      <td>125000000.0</td>\n",
       "    </tr>\n",
       "    <tr>\n",
       "      <th>196</th>\n",
       "      <td>500</td>\n",
       "      <td>Gagnoa</td>\n",
       "      <td>Bracodi</td>\n",
       "      <td>Quartier Administratif</td>\n",
       "      <td>5</td>\n",
       "      <td>4</td>\n",
       "      <td>3</td>\n",
       "      <td>220.0</td>\n",
       "      <td>Grande villa avec piscine et jardin</td>\n",
       "      <td>Villa</td>\n",
       "      <td>180000000.0</td>\n",
       "    </tr>\n",
       "    <tr>\n",
       "      <th>197</th>\n",
       "      <td>501</td>\n",
       "      <td>Korhogo</td>\n",
       "      <td>Nafoun</td>\n",
       "      <td>Quartier Industriel</td>\n",
       "      <td>3</td>\n",
       "      <td>2</td>\n",
       "      <td>1</td>\n",
       "      <td>140.0</td>\n",
       "      <td>Maison moderne avec terrasse</td>\n",
       "      <td>Maison</td>\n",
       "      <td>110000000.0</td>\n",
       "    </tr>\n",
       "    <tr>\n",
       "      <th>198</th>\n",
       "      <td>502</td>\n",
       "      <td>San-Pédro</td>\n",
       "      <td>Loba</td>\n",
       "      <td>Quartier Industriel</td>\n",
       "      <td>4</td>\n",
       "      <td>3</td>\n",
       "      <td>2</td>\n",
       "      <td>160.0</td>\n",
       "      <td>Maison spacieuse avec jardin</td>\n",
       "      <td>Maison</td>\n",
       "      <td>140000000.0</td>\n",
       "    </tr>\n",
       "    <tr>\n",
       "      <th>199</th>\n",
       "      <td>503</td>\n",
       "      <td>Yamoussoukro</td>\n",
       "      <td>Attiegouakro</td>\n",
       "      <td>Quartier Résidentiel</td>\n",
       "      <td>2</td>\n",
       "      <td>1</td>\n",
       "      <td>1</td>\n",
       "      <td>100.0</td>\n",
       "      <td>Petit appartement moderne</td>\n",
       "      <td>Appartement</td>\n",
       "      <td>90000000.0</td>\n",
       "    </tr>\n",
       "  </tbody>\n",
       "</table>\n",
       "<p>200 rows × 11 columns</p>\n",
       "</div>"
      ],
      "text/plain": [
       "     IdMaison         Ville       Commune                Quartier  \\\n",
       "0         304       Abidjan        Cocody                   Angré   \n",
       "1         305     San-Pédro        Bardot       Zone Industrielle   \n",
       "2         306        Bouaké   Ahougnansou              Belleville   \n",
       "3         307  Yamoussoukro      Kokrenou   Quartier Présidentiel   \n",
       "4         308         Daloa        Gbatta    Quartier Résidentiel   \n",
       "..        ...           ...           ...                     ...   \n",
       "195       499           Man       Bangolo        Quartier Central   \n",
       "196       500        Gagnoa       Bracodi  Quartier Administratif   \n",
       "197       501       Korhogo        Nafoun     Quartier Industriel   \n",
       "198       502     San-Pédro          Loba     Quartier Industriel   \n",
       "199       503  Yamoussoukro  Attiegouakro    Quartier Résidentiel   \n",
       "\n",
       "     Nombre_de_pieces  Nombre_de_chambres  Nombre_de_salles_de_bain  \\\n",
       "0                   5                   3                         2   \n",
       "1                   4                   3                         2   \n",
       "2                   3                   2                         1   \n",
       "3                   4                   3                         2   \n",
       "4                   2                   1                         1   \n",
       "..                ...                 ...                       ...   \n",
       "195                 4                   3                         2   \n",
       "196                 5                   4                         3   \n",
       "197                 3                   2                         1   \n",
       "198                 4                   3                         2   \n",
       "199                 2                   1                         1   \n",
       "\n",
       "     metre_carre                          Descriptions Type_de_maison  \\\n",
       "0          200.0  Villa de luxe avec piscine et jardin          Villa   \n",
       "1          180.0       Maison spacieuse proche du port         Maison   \n",
       "2          150.0            Maison moderne avec jardin         Maison   \n",
       "3          220.0   Grande villa avec garage et piscine          Villa   \n",
       "4          100.0              Petit appartement rénové    Appartement   \n",
       "..           ...                                   ...            ...   \n",
       "195        160.0     Maison avec vue sur les montagnes         Maison   \n",
       "196        220.0   Grande villa avec piscine et jardin          Villa   \n",
       "197        140.0          Maison moderne avec terrasse         Maison   \n",
       "198        160.0          Maison spacieuse avec jardin         Maison   \n",
       "199        100.0             Petit appartement moderne    Appartement   \n",
       "\n",
       "     Prix_unitaire  \n",
       "0      120000000.0  \n",
       "1       95000000.0  \n",
       "2       85000000.0  \n",
       "3      115000000.0  \n",
       "4       65000000.0  \n",
       "..             ...  \n",
       "195    125000000.0  \n",
       "196    180000000.0  \n",
       "197    110000000.0  \n",
       "198    140000000.0  \n",
       "199     90000000.0  \n",
       "\n",
       "[200 rows x 11 columns]"
      ]
     },
     "execution_count": 2,
     "metadata": {},
     "output_type": "execute_result"
    }
   ],
   "source": [
    "# Affichage des premières lignes des données chargées\n",
    "maison_data"
   ]
  },
  {
   "cell_type": "code",
   "execution_count": 3,
   "metadata": {},
   "outputs": [],
   "source": [
    "df = maison_data.copy()\n",
    "dfp = maison_data.copy()"
   ]
  },
  {
   "cell_type": "code",
   "execution_count": 4,
   "metadata": {},
   "outputs": [
    {
     "name": "stdout",
     "output_type": "stream",
     "text": [
      "<class 'pandas.core.frame.DataFrame'>\n",
      "RangeIndex: 200 entries, 0 to 199\n",
      "Data columns (total 11 columns):\n",
      " #   Column                    Non-Null Count  Dtype  \n",
      "---  ------                    --------------  -----  \n",
      " 0   IdMaison                  200 non-null    int64  \n",
      " 1   Ville                     200 non-null    object \n",
      " 2   Commune                   200 non-null    object \n",
      " 3   Quartier                  200 non-null    object \n",
      " 4   Nombre_de_pieces          200 non-null    int64  \n",
      " 5   Nombre_de_chambres        200 non-null    int64  \n",
      " 6   Nombre_de_salles_de_bain  200 non-null    int64  \n",
      " 7   metre_carre               200 non-null    float64\n",
      " 8   Descriptions              200 non-null    object \n",
      " 9   Type_de_maison            200 non-null    object \n",
      " 10  Prix_unitaire             200 non-null    float64\n",
      "dtypes: float64(2), int64(4), object(5)\n",
      "memory usage: 17.3+ KB\n"
     ]
    }
   ],
   "source": [
    "\n",
    "df.info()"
   ]
  },
  {
   "cell_type": "code",
   "execution_count": 5,
   "metadata": {},
   "outputs": [
    {
     "data": {
      "text/plain": [
       "IdMaison                    False\n",
       "Ville                       False\n",
       "Commune                     False\n",
       "Quartier                    False\n",
       "Nombre_de_pieces            False\n",
       "Nombre_de_chambres          False\n",
       "Nombre_de_salles_de_bain    False\n",
       "metre_carre                 False\n",
       "Descriptions                False\n",
       "Type_de_maison              False\n",
       "Prix_unitaire               False\n",
       "dtype: bool"
      ]
     },
     "execution_count": 5,
     "metadata": {},
     "output_type": "execute_result"
    }
   ],
   "source": [
    "# Vérifier s'il y a des données manquantes par colonne\n",
    "donnees_colonne = df.isna().any()\n",
    "donnees_colonne"
   ]
  },
  {
   "cell_type": "code",
   "execution_count": 6,
   "metadata": {},
   "outputs": [
    {
     "data": {
      "text/plain": [
       "0      False\n",
       "1      False\n",
       "2      False\n",
       "3      False\n",
       "4      False\n",
       "       ...  \n",
       "195    False\n",
       "196    False\n",
       "197    False\n",
       "198    False\n",
       "199    False\n",
       "Length: 200, dtype: bool"
      ]
     },
     "execution_count": 6,
     "metadata": {},
     "output_type": "execute_result"
    }
   ],
   "source": [
    "# Vérifier s'il y a des données manquantes par ligne\n",
    "donnees_ligne = df.isna().any(axis=1)\n",
    "donnees_ligne"
   ]
  },
  {
   "cell_type": "code",
   "execution_count": 7,
   "metadata": {},
   "outputs": [
    {
     "data": {
      "text/plain": [
       "0"
      ]
     },
     "execution_count": 7,
     "metadata": {},
     "output_type": "execute_result"
    }
   ],
   "source": [
    "# Vérifier s'il y a des données redondante par ligne\n",
    "dupliquees = df.duplicated().sum()\n",
    "dupliquees"
   ]
  },
  {
   "cell_type": "code",
   "execution_count": 8,
   "metadata": {},
   "outputs": [],
   "source": [
    "import matplotlib.pyplot as plt"
   ]
  },
  {
   "cell_type": "code",
   "execution_count": 9,
   "metadata": {},
   "outputs": [
    {
     "data": {
      "image/png": "[encoded data removed]",
      "text/plain": [
       "<Figure size 640x480 with 1 Axes>"
      ]
     },
     "metadata": {},
     "output_type": "display_data"
    },
    {
     "data": {
      "image/png": "[encoded data removed]",
      "text/plain": [
       "<Figure size 640x480 with 1 Axes>"
      ]
     },
     "metadata": {},
     "output_type": "display_data"
    },
    {
     "data": {
      "image/png": "[encoded data removed]",
      "text/plain": [
       "<Figure size 640x480 with 1 Axes>"
      ]
     },
     "metadata": {},
     "output_type": "display_data"
    },
    {
     "data": {
      "image/png": "[encoded data removed]",
      "text/plain": [
       "<Figure size 640x480 with 1 Axes>"
      ]
     },
     "metadata": {},
     "output_type": "display_data"
    },
    {
     "data": {
      "image/png": "[encoded data removed]",
      "text/plain": [
       "<Figure size 640x480 with 1 Axes>"
      ]
     },
     "metadata": {},
     "output_type": "display_data"
    },
    {
     "data": {
      "image/png": "[encoded data removed]",
      "text/plain": [
       "<Figure size 640x480 with 1 Axes>"
      ]
     },
     "metadata": {},
     "output_type": "display_data"
    }
   ],
   "source": [
    "\n",
    "# afficher la représentation graphique de chaque variable quantitative\n",
    "liste_quant = list(df.select_dtypes(exclude=object))\n",
    "\n",
    "for var in liste_quant:\n",
    "    df[var].hist()\n",
    "    plt.title('Histogramme de' + var + ' variable')\n",
    "    plt.xlabel(var)\n",
    "    plt.ylabel('Frequency')\n",
    "    plt.show()"
   ]
  },
  {
   "cell_type": "code",
   "execution_count": 10,
   "metadata": {},
   "outputs": [
    {
     "data": {
      "image/png": "[encoded data removed]",
      "text/plain": [
       "<Figure size 640x480 with 1 Axes>"
      ]
     },
     "metadata": {},
     "output_type": "display_data"
    },
    {
     "data": {
      "image/png": "[encoded data removed]",
      "text/plain": [
       "<Figure size 640x480 with 1 Axes>"
      ]
     },
     "metadata": {},
     "output_type": "display_data"
    },
    {
     "data": {
      "image/png": "[encoded data removed]",
      "text/plain": [
       "<Figure size 640x480 with 1 Axes>"
      ]
     },
     "metadata": {},
     "output_type": "display_data"
    },
    {
     "data": {
      "image/png": "[encoded data removed]",
      "text/plain": [
       "<Figure size 640x480 with 1 Axes>"
      ]
     },
     "metadata": {},
     "output_type": "display_data"
    },
    {
     "data": {
      "image/png": "[encoded data removed]",
      "text/plain": [
       "<Figure size 640x480 with 1 Axes>"
      ]
     },
     "metadata": {},
     "output_type": "display_data"
    }
   ],
   "source": [
    "# afficher la représentation graphique de chaque variable qualitatif\n",
    "liste_qual = list(df.select_dtypes(include=object))\n",
    "\n",
    "for var in liste_qual:\n",
    "    df[var].hist()\n",
    "    plt.title('Histogramme de' + var + ' variable')\n",
    "    plt.xlabel(var)\n",
    "    plt.ylabel('Frequency')\n",
    "    plt.show()"
   ]
  },
  {
   "cell_type": "markdown",
   "metadata": {},
   "source": [
    "# Étape 2: Préparation des données\n",
    "Nettoyez et préparez les données pour l'entraînement du modèle. Cela inclut la gestion des valeurs manquantes, la conversion des variables catégorielles en variables numériques et l'encodage des descriptions textuelles."
   ]
  },
  {
   "cell_type": "code",
   "execution_count": 11,
   "metadata": {},
   "outputs": [
    {
     "name": "stderr",
     "output_type": "stream",
     "text": [
      "C:\\Users\\HPC\\AppData\\Local\\Temp\\ipykernel_14996\\3561598588.py:6: SettingWithCopyWarning: \n",
      "A value is trying to be set on a copy of a slice from a DataFrame.\n",
      "Try using .loc[row_indexer,col_indexer] = value instead\n",
      "\n",
      "See the caveats in the documentation: https://pandas.pydata.org/pandas-docs/stable/user_guide/indexing.html#returning-a-view-versus-a-copy\n",
      "  df[col] = df[col].astype('category')\n",
      "C:\\Users\\HPC\\AppData\\Local\\Temp\\ipykernel_14996\\3561598588.py:7: SettingWithCopyWarning: \n",
      "A value is trying to be set on a copy of a slice from a DataFrame.\n",
      "Try using .loc[row_indexer,col_indexer] = value instead\n",
      "\n",
      "See the caveats in the documentation: https://pandas.pydata.org/pandas-docs/stable/user_guide/indexing.html#returning-a-view-versus-a-copy\n",
      "  df[col] = df[col].cat.codes\n",
      "C:\\Users\\HPC\\AppData\\Local\\Temp\\ipykernel_14996\\3561598588.py:6: SettingWithCopyWarning: \n",
      "A value is trying to be set on a copy of a slice from a DataFrame.\n",
      "Try using .loc[row_indexer,col_indexer] = value instead\n",
      "\n",
      "See the caveats in the documentation: https://pandas.pydata.org/pandas-docs/stable/user_guide/indexing.html#returning-a-view-versus-a-copy\n",
      "  df[col] = df[col].astype('category')\n",
      "C:\\Users\\HPC\\AppData\\Local\\Temp\\ipykernel_14996\\3561598588.py:7: SettingWithCopyWarning: \n",
      "A value is trying to be set on a copy of a slice from a DataFrame.\n",
      "Try using .loc[row_indexer,col_indexer] = value instead\n",
      "\n",
      "See the caveats in the documentation: https://pandas.pydata.org/pandas-docs/stable/user_guide/indexing.html#returning-a-view-versus-a-copy\n",
      "  df[col] = df[col].cat.codes\n",
      "C:\\Users\\HPC\\AppData\\Local\\Temp\\ipykernel_14996\\3561598588.py:6: SettingWithCopyWarning: \n",
      "A value is trying to be set on a copy of a slice from a DataFrame.\n",
      "Try using .loc[row_indexer,col_indexer] = value instead\n",
      "\n",
      "See the caveats in the documentation: https://pandas.pydata.org/pandas-docs/stable/user_guide/indexing.html#returning-a-view-versus-a-copy\n",
      "  df[col] = df[col].astype('category')\n",
      "C:\\Users\\HPC\\AppData\\Local\\Temp\\ipykernel_14996\\3561598588.py:7: SettingWithCopyWarning: \n",
      "A value is trying to be set on a copy of a slice from a DataFrame.\n",
      "Try using .loc[row_indexer,col_indexer] = value instead\n",
      "\n",
      "See the caveats in the documentation: https://pandas.pydata.org/pandas-docs/stable/user_guide/indexing.html#returning-a-view-versus-a-copy\n",
      "  df[col] = df[col].cat.codes\n",
      "C:\\Users\\HPC\\AppData\\Local\\Temp\\ipykernel_14996\\3561598588.py:6: SettingWithCopyWarning: \n",
      "A value is trying to be set on a copy of a slice from a DataFrame.\n",
      "Try using .loc[row_indexer,col_indexer] = value instead\n",
      "\n",
      "See the caveats in the documentation: https://pandas.pydata.org/pandas-docs/stable/user_guide/indexing.html#returning-a-view-versus-a-copy\n",
      "  df[col] = df[col].astype('category')\n",
      "C:\\Users\\HPC\\AppData\\Local\\Temp\\ipykernel_14996\\3561598588.py:7: SettingWithCopyWarning: \n",
      "A value is trying to be set on a copy of a slice from a DataFrame.\n",
      "Try using .loc[row_indexer,col_indexer] = value instead\n",
      "\n",
      "See the caveats in the documentation: https://pandas.pydata.org/pandas-docs/stable/user_guide/indexing.html#returning-a-view-versus-a-copy\n",
      "  df[col] = df[col].cat.codes\n"
     ]
    }
   ],
   "source": [
    "\n",
    "# Conversion des variables catégorielles en variables numériques\n",
    "colonn = df[['Ville', 'Commune', 'Quartier', 'Type_de_maison',]]\n",
    "def recodage_total(df):\n",
    "    for col in df.columns:\n",
    "        if df[col].dtype == \"object\":\n",
    "            df[col] = df[col].astype('category')\n",
    "            df[col] = df[col].cat.codes\n",
    "    return df\n",
    "data_categorical = recodage_total(colonn)\n",
    "\n",
    "# Joindre les colonnes recodées avec les autres colonnes non catégorielles\n",
    "data = df[['Nombre_de_pieces', 'Nombre_de_chambres', 'Nombre_de_salles_de_bain', 'metre_carre', 'Descriptions', 'Prix_unitaire']].join(data_categorical)\n",
    "\n",
    "# Encodage des descriptions textuelles\n",
    "from sklearn.feature_extraction.text import TfidfVectorizer\n",
    "\n",
    "# Encodage des descriptions textuelles\n",
    "tfidf = TfidfVectorizer(max_features=100)\n",
    "tfidf_matrix = tfidf.fit_transform(data['Descriptions'])\n",
    "tfidf_df = pd.DataFrame(tfidf_matrix.toarray(), columns=tfidf.get_feature_names_out())\n",
    "data = data.drop('Descriptions', axis=1).join(tfidf_df)\n",
    "\n",
    "# Sauvegarder les colonnes originales après le prétraitement\n",
    "original_columns = data.columns\n",
    "\n",
    "# Séparation des caractéristiques et de la variable cible\n",
    "X = data.drop('Prix_unitaire', axis=1)\n",
    "y = data['Prix_unitaire']\n"
   ]
  },
  {
   "cell_type": "code",
   "execution_count": 12,
   "metadata": {},
   "outputs": [
    {
     "data": {
      "text/html": [
       "<div>\n",
       "<style scoped>\n",
       "    .dataframe tbody tr th:only-of-type {\n",
       "        vertical-align: middle;\n",
       "    }\n",
       "\n",
       "    .dataframe tbody tr th {\n",
       "        vertical-align: top;\n",
       "    }\n",
       "\n",
       "    .dataframe thead th {\n",
       "        text-align: right;\n",
       "    }\n",
       "</style>\n",
       "<table border=\"1\" class=\"dataframe\">\n",
       "  <thead>\n",
       "    <tr style=\"text-align: right;\">\n",
       "      <th></th>\n",
       "      <th>Nombre_de_pieces</th>\n",
       "      <th>Nombre_de_chambres</th>\n",
       "      <th>Nombre_de_salles_de_bain</th>\n",
       "      <th>metre_carre</th>\n",
       "      <th>Prix_unitaire</th>\n",
       "      <th>Ville</th>\n",
       "      <th>Commune</th>\n",
       "      <th>Quartier</th>\n",
       "      <th>Type_de_maison</th>\n",
       "      <th>appartement</th>\n",
       "      <th>...</th>\n",
       "      <th>rénové</th>\n",
       "      <th>situé</th>\n",
       "      <th>spacieuse</th>\n",
       "      <th>spacieux</th>\n",
       "      <th>sur</th>\n",
       "      <th>terrasse</th>\n",
       "      <th>villa</th>\n",
       "      <th>ville</th>\n",
       "      <th>vue</th>\n",
       "      <th>écoles</th>\n",
       "    </tr>\n",
       "  </thead>\n",
       "  <tbody>\n",
       "    <tr>\n",
       "      <th>0</th>\n",
       "      <td>5</td>\n",
       "      <td>3</td>\n",
       "      <td>2</td>\n",
       "      <td>200.0</td>\n",
       "      <td>120000000.0</td>\n",
       "      <td>1</td>\n",
       "      <td>26</td>\n",
       "      <td>0</td>\n",
       "      <td>2</td>\n",
       "      <td>0.000000</td>\n",
       "      <td>...</td>\n",
       "      <td>0.000000</td>\n",
       "      <td>0.0</td>\n",
       "      <td>0.000000</td>\n",
       "      <td>0.0</td>\n",
       "      <td>0.000000</td>\n",
       "      <td>0.000000</td>\n",
       "      <td>0.359917</td>\n",
       "      <td>0.0</td>\n",
       "      <td>0.00000</td>\n",
       "      <td>0.0</td>\n",
       "    </tr>\n",
       "    <tr>\n",
       "      <th>1</th>\n",
       "      <td>4</td>\n",
       "      <td>3</td>\n",
       "      <td>2</td>\n",
       "      <td>180.0</td>\n",
       "      <td>95000000.0</td>\n",
       "      <td>9</td>\n",
       "      <td>14</td>\n",
       "      <td>29</td>\n",
       "      <td>1</td>\n",
       "      <td>0.000000</td>\n",
       "      <td>...</td>\n",
       "      <td>0.000000</td>\n",
       "      <td>0.0</td>\n",
       "      <td>0.501285</td>\n",
       "      <td>0.0</td>\n",
       "      <td>0.000000</td>\n",
       "      <td>0.000000</td>\n",
       "      <td>0.000000</td>\n",
       "      <td>0.0</td>\n",
       "      <td>0.00000</td>\n",
       "      <td>0.0</td>\n",
       "    </tr>\n",
       "    <tr>\n",
       "      <th>2</th>\n",
       "      <td>3</td>\n",
       "      <td>2</td>\n",
       "      <td>1</td>\n",
       "      <td>150.0</td>\n",
       "      <td>85000000.0</td>\n",
       "      <td>3</td>\n",
       "      <td>5</td>\n",
       "      <td>1</td>\n",
       "      <td>1</td>\n",
       "      <td>0.000000</td>\n",
       "      <td>...</td>\n",
       "      <td>0.000000</td>\n",
       "      <td>0.0</td>\n",
       "      <td>0.000000</td>\n",
       "      <td>0.0</td>\n",
       "      <td>0.000000</td>\n",
       "      <td>0.000000</td>\n",
       "      <td>0.000000</td>\n",
       "      <td>0.0</td>\n",
       "      <td>0.00000</td>\n",
       "      <td>0.0</td>\n",
       "    </tr>\n",
       "    <tr>\n",
       "      <th>3</th>\n",
       "      <td>4</td>\n",
       "      <td>3</td>\n",
       "      <td>2</td>\n",
       "      <td>220.0</td>\n",
       "      <td>115000000.0</td>\n",
       "      <td>10</td>\n",
       "      <td>61</td>\n",
       "      <td>17</td>\n",
       "      <td>2</td>\n",
       "      <td>0.000000</td>\n",
       "      <td>...</td>\n",
       "      <td>0.000000</td>\n",
       "      <td>0.0</td>\n",
       "      <td>0.000000</td>\n",
       "      <td>0.0</td>\n",
       "      <td>0.000000</td>\n",
       "      <td>0.000000</td>\n",
       "      <td>0.403637</td>\n",
       "      <td>0.0</td>\n",
       "      <td>0.00000</td>\n",
       "      <td>0.0</td>\n",
       "    </tr>\n",
       "    <tr>\n",
       "      <th>4</th>\n",
       "      <td>2</td>\n",
       "      <td>1</td>\n",
       "      <td>1</td>\n",
       "      <td>100.0</td>\n",
       "      <td>65000000.0</td>\n",
       "      <td>4</td>\n",
       "      <td>43</td>\n",
       "      <td>18</td>\n",
       "      <td>0</td>\n",
       "      <td>0.335947</td>\n",
       "      <td>...</td>\n",
       "      <td>0.781517</td>\n",
       "      <td>0.0</td>\n",
       "      <td>0.000000</td>\n",
       "      <td>0.0</td>\n",
       "      <td>0.000000</td>\n",
       "      <td>0.000000</td>\n",
       "      <td>0.000000</td>\n",
       "      <td>0.0</td>\n",
       "      <td>0.00000</td>\n",
       "      <td>0.0</td>\n",
       "    </tr>\n",
       "    <tr>\n",
       "      <th>...</th>\n",
       "      <td>...</td>\n",
       "      <td>...</td>\n",
       "      <td>...</td>\n",
       "      <td>...</td>\n",
       "      <td>...</td>\n",
       "      <td>...</td>\n",
       "      <td>...</td>\n",
       "      <td>...</td>\n",
       "      <td>...</td>\n",
       "      <td>...</td>\n",
       "      <td>...</td>\n",
       "      <td>...</td>\n",
       "      <td>...</td>\n",
       "      <td>...</td>\n",
       "      <td>...</td>\n",
       "      <td>...</td>\n",
       "      <td>...</td>\n",
       "      <td>...</td>\n",
       "      <td>...</td>\n",
       "      <td>...</td>\n",
       "      <td>...</td>\n",
       "    </tr>\n",
       "    <tr>\n",
       "      <th>195</th>\n",
       "      <td>4</td>\n",
       "      <td>3</td>\n",
       "      <td>2</td>\n",
       "      <td>160.0</td>\n",
       "      <td>125000000.0</td>\n",
       "      <td>8</td>\n",
       "      <td>13</td>\n",
       "      <td>10</td>\n",
       "      <td>1</td>\n",
       "      <td>0.000000</td>\n",
       "      <td>...</td>\n",
       "      <td>0.000000</td>\n",
       "      <td>0.0</td>\n",
       "      <td>0.000000</td>\n",
       "      <td>0.0</td>\n",
       "      <td>0.417809</td>\n",
       "      <td>0.000000</td>\n",
       "      <td>0.000000</td>\n",
       "      <td>0.0</td>\n",
       "      <td>0.37844</td>\n",
       "      <td>0.0</td>\n",
       "    </tr>\n",
       "    <tr>\n",
       "      <th>196</th>\n",
       "      <td>5</td>\n",
       "      <td>4</td>\n",
       "      <td>3</td>\n",
       "      <td>220.0</td>\n",
       "      <td>180000000.0</td>\n",
       "      <td>6</td>\n",
       "      <td>23</td>\n",
       "      <td>7</td>\n",
       "      <td>2</td>\n",
       "      <td>0.000000</td>\n",
       "      <td>...</td>\n",
       "      <td>0.000000</td>\n",
       "      <td>0.0</td>\n",
       "      <td>0.000000</td>\n",
       "      <td>0.0</td>\n",
       "      <td>0.000000</td>\n",
       "      <td>0.000000</td>\n",
       "      <td>0.431073</td>\n",
       "      <td>0.0</td>\n",
       "      <td>0.00000</td>\n",
       "      <td>0.0</td>\n",
       "    </tr>\n",
       "    <tr>\n",
       "      <th>197</th>\n",
       "      <td>3</td>\n",
       "      <td>2</td>\n",
       "      <td>1</td>\n",
       "      <td>140.0</td>\n",
       "      <td>110000000.0</td>\n",
       "      <td>7</td>\n",
       "      <td>73</td>\n",
       "      <td>12</td>\n",
       "      <td>1</td>\n",
       "      <td>0.000000</td>\n",
       "      <td>...</td>\n",
       "      <td>0.000000</td>\n",
       "      <td>0.0</td>\n",
       "      <td>0.000000</td>\n",
       "      <td>0.0</td>\n",
       "      <td>0.000000</td>\n",
       "      <td>0.687051</td>\n",
       "      <td>0.000000</td>\n",
       "      <td>0.0</td>\n",
       "      <td>0.00000</td>\n",
       "      <td>0.0</td>\n",
       "    </tr>\n",
       "    <tr>\n",
       "      <th>198</th>\n",
       "      <td>4</td>\n",
       "      <td>3</td>\n",
       "      <td>2</td>\n",
       "      <td>160.0</td>\n",
       "      <td>140000000.0</td>\n",
       "      <td>9</td>\n",
       "      <td>66</td>\n",
       "      <td>12</td>\n",
       "      <td>1</td>\n",
       "      <td>0.000000</td>\n",
       "      <td>...</td>\n",
       "      <td>0.000000</td>\n",
       "      <td>0.0</td>\n",
       "      <td>0.764883</td>\n",
       "      <td>0.0</td>\n",
       "      <td>0.000000</td>\n",
       "      <td>0.000000</td>\n",
       "      <td>0.000000</td>\n",
       "      <td>0.0</td>\n",
       "      <td>0.00000</td>\n",
       "      <td>0.0</td>\n",
       "    </tr>\n",
       "    <tr>\n",
       "      <th>199</th>\n",
       "      <td>2</td>\n",
       "      <td>1</td>\n",
       "      <td>1</td>\n",
       "      <td>100.0</td>\n",
       "      <td>90000000.0</td>\n",
       "      <td>10</td>\n",
       "      <td>9</td>\n",
       "      <td>18</td>\n",
       "      <td>0</td>\n",
       "      <td>0.449466</td>\n",
       "      <td>...</td>\n",
       "      <td>0.000000</td>\n",
       "      <td>0.0</td>\n",
       "      <td>0.000000</td>\n",
       "      <td>0.0</td>\n",
       "      <td>0.000000</td>\n",
       "      <td>0.000000</td>\n",
       "      <td>0.000000</td>\n",
       "      <td>0.0</td>\n",
       "      <td>0.00000</td>\n",
       "      <td>0.0</td>\n",
       "    </tr>\n",
       "  </tbody>\n",
       "</table>\n",
       "<p>200 rows × 63 columns</p>\n",
       "</div>"
      ],
      "text/plain": [
       "     Nombre_de_pieces  Nombre_de_chambres  Nombre_de_salles_de_bain  \\\n",
       "0                   5                   3                         2   \n",
       "1                   4                   3                         2   \n",
       "2                   3                   2                         1   \n",
       "3                   4                   3                         2   \n",
       "4                   2                   1                         1   \n",
       "..                ...                 ...                       ...   \n",
       "195                 4                   3                         2   \n",
       "196                 5                   4                         3   \n",
       "197                 3                   2                         1   \n",
       "198                 4                   3                         2   \n",
       "199                 2                   1                         1   \n",
       "\n",
       "     metre_carre  Prix_unitaire  Ville  Commune  Quartier  Type_de_maison  \\\n",
       "0          200.0    120000000.0      1       26         0               2   \n",
       "1          180.0     95000000.0      9       14        29               1   \n",
       "2          150.0     85000000.0      3        5         1               1   \n",
       "3          220.0    115000000.0     10       61        17               2   \n",
       "4          100.0     65000000.0      4       43        18               0   \n",
       "..           ...            ...    ...      ...       ...             ...   \n",
       "195        160.0    125000000.0      8       13        10               1   \n",
       "196        220.0    180000000.0      6       23         7               2   \n",
       "197        140.0    110000000.0      7       73        12               1   \n",
       "198        160.0    140000000.0      9       66        12               1   \n",
       "199        100.0     90000000.0     10        9        18               0   \n",
       "\n",
       "     appartement  ...    rénové  situé  spacieuse  spacieux       sur  \\\n",
       "0       0.000000  ...  0.000000    0.0   0.000000       0.0  0.000000   \n",
       "1       0.000000  ...  0.000000    0.0   0.501285       0.0  0.000000   \n",
       "2       0.000000  ...  0.000000    0.0   0.000000       0.0  0.000000   \n",
       "3       0.000000  ...  0.000000    0.0   0.000000       0.0  0.000000   \n",
       "4       0.335947  ...  0.781517    0.0   0.000000       0.0  0.000000   \n",
       "..           ...  ...       ...    ...        ...       ...       ...   \n",
       "195     0.000000  ...  0.000000    0.0   0.000000       0.0  0.417809   \n",
       "196     0.000000  ...  0.000000    0.0   0.000000       0.0  0.000000   \n",
       "197     0.000000  ...  0.000000    0.0   0.000000       0.0  0.000000   \n",
       "198     0.000000  ...  0.000000    0.0   0.764883       0.0  0.000000   \n",
       "199     0.449466  ...  0.000000    0.0   0.000000       0.0  0.000000   \n",
       "\n",
       "     terrasse     villa  ville      vue  écoles  \n",
       "0    0.000000  0.359917    0.0  0.00000     0.0  \n",
       "1    0.000000  0.000000    0.0  0.00000     0.0  \n",
       "2    0.000000  0.000000    0.0  0.00000     0.0  \n",
       "3    0.000000  0.403637    0.0  0.00000     0.0  \n",
       "4    0.000000  0.000000    0.0  0.00000     0.0  \n",
       "..        ...       ...    ...      ...     ...  \n",
       "195  0.000000  0.000000    0.0  0.37844     0.0  \n",
       "196  0.000000  0.431073    0.0  0.00000     0.0  \n",
       "197  0.687051  0.000000    0.0  0.00000     0.0  \n",
       "198  0.000000  0.000000    0.0  0.00000     0.0  \n",
       "199  0.000000  0.000000    0.0  0.00000     0.0  \n",
       "\n",
       "[200 rows x 63 columns]"
      ]
     },
     "execution_count": 12,
     "metadata": {},
     "output_type": "execute_result"
    }
   ],
   "source": [
    "data"
   ]
  },
  {
   "cell_type": "code",
   "execution_count": 13,
   "metadata": {},
   "outputs": [
    {
     "name": "stdout",
     "output_type": "stream",
     "text": [
      "     Nombre_de_pieces  Nombre_de_chambres  Nombre_de_salles_de_bain  \\\n",
      "0                   5                   3                         2   \n",
      "1                   4                   3                         2   \n",
      "2                   3                   2                         1   \n",
      "3                   4                   3                         2   \n",
      "4                   2                   1                         1   \n",
      "..                ...                 ...                       ...   \n",
      "195                 4                   3                         2   \n",
      "196                 5                   4                         3   \n",
      "197                 3                   2                         1   \n",
      "198                 4                   3                         2   \n",
      "199                 2                   1                         1   \n",
      "\n",
      "     metre_carre  Ville  Commune  Quartier  Type_de_maison  appartement   au  \\\n",
      "0          200.0      1       26         0               2     0.000000  0.0   \n",
      "1          180.0      9       14        29               1     0.000000  0.0   \n",
      "2          150.0      3        5         1               1     0.000000  0.0   \n",
      "3          220.0     10       61        17               2     0.000000  0.0   \n",
      "4          100.0      4       43        18               0     0.335947  0.0   \n",
      "..           ...    ...      ...       ...             ...          ...  ...   \n",
      "195        160.0      8       13        10               1     0.000000  0.0   \n",
      "196        220.0      6       23         7               2     0.000000  0.0   \n",
      "197        140.0      7       73        12               1     0.000000  0.0   \n",
      "198        160.0      9       66        12               1     0.000000  0.0   \n",
      "199        100.0     10        9        18               0     0.449466  0.0   \n",
      "\n",
      "     ...    rénové  situé  spacieuse  spacieux       sur  terrasse     villa  \\\n",
      "0    ...  0.000000    0.0   0.000000       0.0  0.000000  0.000000  0.359917   \n",
      "1    ...  0.000000    0.0   0.501285       0.0  0.000000  0.000000  0.000000   \n",
      "2    ...  0.000000    0.0   0.000000       0.0  0.000000  0.000000  0.000000   \n",
      "3    ...  0.000000    0.0   0.000000       0.0  0.000000  0.000000  0.403637   \n",
      "4    ...  0.781517    0.0   0.000000       0.0  0.000000  0.000000  0.000000   \n",
      "..   ...       ...    ...        ...       ...       ...       ...       ...   \n",
      "195  ...  0.000000    0.0   0.000000       0.0  0.417809  0.000000  0.000000   \n",
      "196  ...  0.000000    0.0   0.000000       0.0  0.000000  0.000000  0.431073   \n",
      "197  ...  0.000000    0.0   0.000000       0.0  0.000000  0.687051  0.000000   \n",
      "198  ...  0.000000    0.0   0.764883       0.0  0.000000  0.000000  0.000000   \n",
      "199  ...  0.000000    0.0   0.000000       0.0  0.000000  0.000000  0.000000   \n",
      "\n",
      "     ville      vue  écoles  \n",
      "0      0.0  0.00000     0.0  \n",
      "1      0.0  0.00000     0.0  \n",
      "2      0.0  0.00000     0.0  \n",
      "3      0.0  0.00000     0.0  \n",
      "4      0.0  0.00000     0.0  \n",
      "..     ...      ...     ...  \n",
      "195    0.0  0.37844     0.0  \n",
      "196    0.0  0.00000     0.0  \n",
      "197    0.0  0.00000     0.0  \n",
      "198    0.0  0.00000     0.0  \n",
      "199    0.0  0.00000     0.0  \n",
      "\n",
      "[200 rows x 62 columns]\n",
      "0      120000000.0\n",
      "1       95000000.0\n",
      "2       85000000.0\n",
      "3      115000000.0\n",
      "4       65000000.0\n",
      "          ...     \n",
      "195    125000000.0\n",
      "196    180000000.0\n",
      "197    110000000.0\n",
      "198    140000000.0\n",
      "199     90000000.0\n",
      "Name: Prix_unitaire, Length: 200, dtype: float64\n"
     ]
    }
   ],
   "source": [
    "print(X)\n",
    "print(y)"
   ]
  },
  {
   "cell_type": "markdown",
   "metadata": {},
   "source": [
    "# Étape 3: Division des données\n",
    "Divisez les données en ensembles d'entraînement et de test."
   ]
  },
  {
   "cell_type": "code",
   "execution_count": 14,
   "metadata": {},
   "outputs": [],
   "source": [
    "#decoupage du dataset en variable d'entrenement et de test\n",
    "from sklearn.model_selection import train_test_split\n",
    "X_train, X_test, y_train, y_test = train_test_split(X, y, test_size=0.05, random_state=42)\n"
   ]
  },
  {
   "cell_type": "code",
   "execution_count": 32,
   "metadata": {},
   "outputs": [
    {
     "data": {
      "text/html": [
       "<div>\n",
       "<style scoped>\n",
       "    .dataframe tbody tr th:only-of-type {\n",
       "        vertical-align: middle;\n",
       "    }\n",
       "\n",
       "    .dataframe tbody tr th {\n",
       "        vertical-align: top;\n",
       "    }\n",
       "\n",
       "    .dataframe thead th {\n",
       "        text-align: right;\n",
       "    }\n",
       "</style>\n",
       "<table border=\"1\" class=\"dataframe\">\n",
       "  <thead>\n",
       "    <tr style=\"text-align: right;\">\n",
       "      <th></th>\n",
       "      <th>IdMaison</th>\n",
       "      <th>Ville</th>\n",
       "      <th>Commune</th>\n",
       "      <th>Quartier</th>\n",
       "      <th>Nombre_de_pieces</th>\n",
       "      <th>Nombre_de_chambres</th>\n",
       "      <th>Nombre_de_salles_de_bain</th>\n",
       "      <th>metre_carre</th>\n",
       "      <th>Descriptions</th>\n",
       "      <th>Type_de_maison</th>\n",
       "    </tr>\n",
       "  </thead>\n",
       "  <tbody>\n",
       "    <tr>\n",
       "      <th>95</th>\n",
       "      <td>399</td>\n",
       "      <td>Man</td>\n",
       "      <td>Libreville</td>\n",
       "      <td>Quartier Militaire</td>\n",
       "      <td>2</td>\n",
       "      <td>1</td>\n",
       "      <td>1</td>\n",
       "      <td>95.0</td>\n",
       "      <td>Appartement avec vue sur montagne</td>\n",
       "      <td>Appartement</td>\n",
       "    </tr>\n",
       "    <tr>\n",
       "      <th>15</th>\n",
       "      <td>319</td>\n",
       "      <td>Man</td>\n",
       "      <td>Libreville</td>\n",
       "      <td>Quartier Militaire</td>\n",
       "      <td>2</td>\n",
       "      <td>1</td>\n",
       "      <td>1</td>\n",
       "      <td>110.0</td>\n",
       "      <td>Petit appartement avec vue sur la montagne</td>\n",
       "      <td>Appartement</td>\n",
       "    </tr>\n",
       "    <tr>\n",
       "      <th>30</th>\n",
       "      <td>334</td>\n",
       "      <td>Divo</td>\n",
       "      <td>Gogobro</td>\n",
       "      <td>Quartier Résidentiel</td>\n",
       "      <td>2</td>\n",
       "      <td>1</td>\n",
       "      <td>1</td>\n",
       "      <td>90.0</td>\n",
       "      <td>Maison près du marché</td>\n",
       "      <td>Maison</td>\n",
       "    </tr>\n",
       "    <tr>\n",
       "      <th>158</th>\n",
       "      <td>462</td>\n",
       "      <td>Daloa</td>\n",
       "      <td>Gblapleu</td>\n",
       "      <td>Centre Ville</td>\n",
       "      <td>5</td>\n",
       "      <td>4</td>\n",
       "      <td>3</td>\n",
       "      <td>220.0</td>\n",
       "      <td>Grande maison avec piscine</td>\n",
       "      <td>Villa</td>\n",
       "    </tr>\n",
       "    <tr>\n",
       "      <th>128</th>\n",
       "      <td>432</td>\n",
       "      <td>Yamoussoukro</td>\n",
       "      <td>Habitat</td>\n",
       "      <td>Quartier Résidentiel</td>\n",
       "      <td>3</td>\n",
       "      <td>2</td>\n",
       "      <td>1</td>\n",
       "      <td>150.0</td>\n",
       "      <td>Maison près de la basilique</td>\n",
       "      <td>Maison</td>\n",
       "    </tr>\n",
       "    <tr>\n",
       "      <th>115</th>\n",
       "      <td>419</td>\n",
       "      <td>Man</td>\n",
       "      <td>Louhiri</td>\n",
       "      <td>Quartier Militaire</td>\n",
       "      <td>2</td>\n",
       "      <td>1</td>\n",
       "      <td>1</td>\n",
       "      <td>90.0</td>\n",
       "      <td>Appartement avec vue sur montagne</td>\n",
       "      <td>Appartement</td>\n",
       "    </tr>\n",
       "    <tr>\n",
       "      <th>69</th>\n",
       "      <td>373</td>\n",
       "      <td>Aboisso</td>\n",
       "      <td>Abradine</td>\n",
       "      <td>Quartier des Affaires</td>\n",
       "      <td>5</td>\n",
       "      <td>4</td>\n",
       "      <td>3</td>\n",
       "      <td>230.0</td>\n",
       "      <td>Villa avec piscine et garage</td>\n",
       "      <td>Villa</td>\n",
       "    </tr>\n",
       "    <tr>\n",
       "      <th>170</th>\n",
       "      <td>474</td>\n",
       "      <td>Man</td>\n",
       "      <td>Bangolo</td>\n",
       "      <td>Quartier Central</td>\n",
       "      <td>4</td>\n",
       "      <td>3</td>\n",
       "      <td>2</td>\n",
       "      <td>160.0</td>\n",
       "      <td>Maison avec vue sur les montagnes</td>\n",
       "      <td>Maison</td>\n",
       "    </tr>\n",
       "    <tr>\n",
       "      <th>174</th>\n",
       "      <td>478</td>\n",
       "      <td>Yamoussoukro</td>\n",
       "      <td>Attiegouakro</td>\n",
       "      <td>Quartier Résidentiel</td>\n",
       "      <td>2</td>\n",
       "      <td>1</td>\n",
       "      <td>1</td>\n",
       "      <td>100.0</td>\n",
       "      <td>Petit appartement moderne</td>\n",
       "      <td>Appartement</td>\n",
       "    </tr>\n",
       "    <tr>\n",
       "      <th>45</th>\n",
       "      <td>349</td>\n",
       "      <td>Man</td>\n",
       "      <td>Zérégbo</td>\n",
       "      <td>Quartier Industriel</td>\n",
       "      <td>4</td>\n",
       "      <td>3</td>\n",
       "      <td>2</td>\n",
       "      <td>200.0</td>\n",
       "      <td>Maison avec grande cour</td>\n",
       "      <td>Maison</td>\n",
       "    </tr>\n",
       "  </tbody>\n",
       "</table>\n",
       "</div>"
      ],
      "text/plain": [
       "     IdMaison         Ville       Commune               Quartier  \\\n",
       "95        399           Man    Libreville     Quartier Militaire   \n",
       "15        319           Man    Libreville     Quartier Militaire   \n",
       "30        334          Divo       Gogobro   Quartier Résidentiel   \n",
       "158       462         Daloa      Gblapleu           Centre Ville   \n",
       "128       432  Yamoussoukro       Habitat   Quartier Résidentiel   \n",
       "115       419           Man       Louhiri     Quartier Militaire   \n",
       "69        373       Aboisso      Abradine  Quartier des Affaires   \n",
       "170       474           Man       Bangolo       Quartier Central   \n",
       "174       478  Yamoussoukro  Attiegouakro   Quartier Résidentiel   \n",
       "45        349           Man       Zérégbo    Quartier Industriel   \n",
       "\n",
       "     Nombre_de_pieces  Nombre_de_chambres  Nombre_de_salles_de_bain  \\\n",
       "95                  2                   1                         1   \n",
       "15                  2                   1                         1   \n",
       "30                  2                   1                         1   \n",
       "158                 5                   4                         3   \n",
       "128                 3                   2                         1   \n",
       "115                 2                   1                         1   \n",
       "69                  5                   4                         3   \n",
       "170                 4                   3                         2   \n",
       "174                 2                   1                         1   \n",
       "45                  4                   3                         2   \n",
       "\n",
       "     metre_carre                                Descriptions Type_de_maison  \n",
       "95          95.0           Appartement avec vue sur montagne    Appartement  \n",
       "15         110.0  Petit appartement avec vue sur la montagne    Appartement  \n",
       "30          90.0                       Maison près du marché         Maison  \n",
       "158        220.0                  Grande maison avec piscine          Villa  \n",
       "128        150.0                 Maison près de la basilique         Maison  \n",
       "115         90.0           Appartement avec vue sur montagne    Appartement  \n",
       "69         230.0                Villa avec piscine et garage          Villa  \n",
       "170        160.0           Maison avec vue sur les montagnes         Maison  \n",
       "174        100.0                   Petit appartement moderne    Appartement  \n",
       "45         200.0                     Maison avec grande cour         Maison  "
      ]
     },
     "execution_count": 32,
     "metadata": {},
     "output_type": "execute_result"
    }
   ],
   "source": [
    "X_test"
   ]
  },
  {
   "cell_type": "code",
   "execution_count": 33,
   "metadata": {},
   "outputs": [
    {
     "data": {
      "text/plain": [
       "95      70000000.0\n",
       "15      65000000.0\n",
       "30      60000000.0\n",
       "158    200000000.0\n",
       "128    105000000.0\n",
       "115     70000000.0\n",
       "69     125000000.0\n",
       "170    125000000.0\n",
       "174     90000000.0\n",
       "45      95000000.0\n",
       "Name: Prix_unitaire, dtype: float64"
      ]
     },
     "execution_count": 33,
     "metadata": {},
     "output_type": "execute_result"
    }
   ],
   "source": [
    "y_test"
   ]
  },
  {
   "cell_type": "code",
   "execution_count": 15,
   "metadata": {},
   "outputs": [],
   "source": [
    "# Standardisation des données\n",
    "from sklearn.preprocessing import StandardScaler\n",
    "scaler = StandardScaler()\n",
    "X_train = scaler.fit_transform(X_train)\n",
    "X_test = scaler.transform(X_test)"
   ]
  },
  {
   "cell_type": "code",
   "execution_count": 16,
   "metadata": {},
   "outputs": [
    {
     "data": {
      "text/plain": [
       "array([[-1.46386811, -1.46789999, -0.87897713, ..., -0.14627009,\n",
       "        -0.38839157, -0.12664425],\n",
       "       [-1.46386811, -1.46789999, -0.87897713, ..., -0.14627009,\n",
       "        -0.38839157, -0.12664425],\n",
       "       [ 0.64321478,  0.65302015,  0.52443173, ..., -0.14627009,\n",
       "        -0.38839157, -0.12664425],\n",
       "       ...,\n",
       "       [-0.41032667, -0.40743992, -0.87897713, ..., -0.14627009,\n",
       "        -0.38839157, -0.12664425],\n",
       "       [-0.41032667, -0.40743992, -0.87897713, ..., -0.14627009,\n",
       "        -0.38839157,  7.98316846],\n",
       "       [ 1.69675622,  1.71348022,  1.9278406 , ..., -0.14627009,\n",
       "        -0.38839157, -0.12664425]])"
      ]
     },
     "execution_count": 16,
     "metadata": {},
     "output_type": "execute_result"
    }
   ],
   "source": [
    "X_train"
   ]
  },
  {
   "cell_type": "markdown",
   "metadata": {},
   "source": [
    "# Étape 4: Entraînement de plusieurs modèles\n",
    "Entraînons plusieurs modèles et évaluons leur performance."
   ]
  },
  {
   "cell_type": "code",
   "execution_count": 17,
   "metadata": {},
   "outputs": [],
   "source": [
    "from sklearn.linear_model import LinearRegression\n",
    "from sklearn.ensemble import RandomForestRegressor\n",
    "from sklearn.svm import SVR\n",
    "from sklearn.metrics import mean_squared_error, r2_score, mean_absolute_error, accuracy_score\n",
    "\n",
    "# Initialisation des modèles\n",
    "models = {\n",
    "    \"Linear Regression\": LinearRegression(),\n",
    "    \"Random Forest\": RandomForestRegressor(random_state=42),\n",
    "    \"Support Vector Regressor\": SVR()\n",
    "}"
   ]
  },
  {
   "cell_type": "code",
   "execution_count": 18,
   "metadata": {},
   "outputs": [
    {
     "name": "stdout",
     "output_type": "stream",
     "text": [
      "Linear Regression: MSE = 425820244087550.5, MAE = 18779677.018278815, R2 = 0.7342360779606487, Accuracy = 0.2\n",
      "Random Forest: MSE = 85984219236111.11, MAE = 7453916.666666667, R2 = 0.9463353289211353, Accuracy = 0.8\n",
      "Support Vector Regressor: MSE = 1632499547819012.8, MAE = 29499993.626676016, R2 = -0.01887941820503225, Accuracy = 0.3\n"
     ]
    }
   ],
   "source": [
    "# Entraînement et évaluation des modèles\n",
    "performance = {}\n",
    "\n",
    "for nom, model in models.items():\n",
    "    model.fit(X_train, y_train)\n",
    "    y_pred = model.predict(X_test)\n",
    "    \n",
    "    \n",
    "    mse = mean_squared_error(y_test, y_pred)\n",
    "    mae = mean_absolute_error(y_test, y_pred)\n",
    "    r2 = r2_score(y_test, y_pred)\n",
    "    \n",
    "    # Calcul de la \"précision\" (accuracy) dans une tolérance de 10%\n",
    "    accuracy = sum(abs(y_test - y_pred) <= 0.1 * y_test) / len(y_test)\n",
    "    \n",
    "    performance[nom] = {\"MSE\": mse, \"MAE\": mae, \"R2\": r2, \"Accuracy\": accuracy}\n",
    "\n",
    "# Affichage des performances\n",
    "for nom, metrics in performance.items():\n",
    "    print(f\"{nom}: MSE = {metrics['MSE']}, MAE = {metrics['MAE']}, R2 = {metrics['R2']}, Accuracy = {metrics['Accuracy']}\")"
   ]
  },
  {
   "cell_type": "markdown",
   "metadata": {},
   "source": [
    "# Étape 5: Sélection du meilleur modèle\n",
    "Sélectionnons le modèle avec la meilleure performance en fonction de la métrique R² (plus la valeur est proche de 1, mieux c'est)."
   ]
  },
  {
   "cell_type": "code",
   "execution_count": 19,
   "metadata": {},
   "outputs": [
    {
     "name": "stdout",
     "output_type": "stream",
     "text": [
      "Best model is: Random Forest with R2 = 0.9463353289211353\n"
     ]
    }
   ],
   "source": [
    "best_model_name = max(performance, key=lambda k: performance[k]['R2'])\n",
    "best_model = models[best_model_name]\n",
    "\n",
    "print(f\"Best model is: {best_model_name} with R2 = {performance[best_model_name]['R2']}\")\n"
   ]
  },
  {
   "cell_type": "code",
   "execution_count": 20,
   "metadata": {},
   "outputs": [
    {
     "name": "stdout",
     "output_type": "stream",
     "text": [
      "\n",
      "Correct Predictions:\n",
      "Actual: 105000000.0, Predicted: 94999996.20600487\n",
      "Actual: 90000000.0, Predicted: 94999983.1403878\n",
      "Actual: 95000000.0, Predicted: 95000001.7056387\n",
      "\n",
      "Incorrect Predictions:\n",
      "Actual: 70000000.0, Predicted: 94999990.99004896\n",
      "Actual: 65000000.0, Predicted: 94999989.70750974\n",
      "Actual: 60000000.0, Predicted: 94999993.6968169\n",
      "Actual: 200000000.0, Predicted: 95000009.36023776\n",
      "Actual: 70000000.0, Predicted: 94999990.97307608\n",
      "Actual: 125000000.0, Predicted: 95000009.23074657\n",
      "Actual: 125000000.0, Predicted: 94999999.14972886\n"
     ]
    }
   ],
   "source": [
    "# Calcul et affichage des prédictions correctes et incorrectes\n",
    "correct_predictions = []\n",
    "incorrect_predictions = []\n",
    "\n",
    "threshold = 0.1  # 10%\n",
    "\n",
    "for i in range(len(y_test)):\n",
    "    actual_value = y_test.iloc[i]\n",
    "    predicted_value = y_pred[i]\n",
    "    if abs(actual_value - predicted_value) <= threshold * actual_value:\n",
    "        correct_predictions.append((actual_value, predicted_value))\n",
    "    else:\n",
    "        incorrect_predictions.append((actual_value, predicted_value))\n",
    "\n",
    "print(\"\\nCorrect Predictions:\")\n",
    "for actual, predicted in correct_predictions:\n",
    "    print(f\"Actual: {actual}, Predicted: {predicted}\")\n",
    "\n",
    "print(\"\\nIncorrect Predictions:\")\n",
    "for actual, predicted in incorrect_predictions:\n",
    "    print(f\"Actual: {actual}, Predicted: {predicted}\")"
   ]
  },
  {
   "cell_type": "code",
   "execution_count": 21,
   "metadata": {},
   "outputs": [
    {
     "data": {
      "image/png": "[encoded data removed]",
      "text/plain": [
       "<Figure size 1400x600 with 2 Axes>"
      ]
     },
     "metadata": {},
     "output_type": "display_data"
    }
   ],
   "source": [
    "import seaborn as sns\n",
    "# Préparation des données pour la visualisation\n",
    "performance_df = pd.DataFrame(performance).T.reset_index().rename(columns={'index': 'Model'})\n",
    "performance_df = performance_df.melt(id_vars=\"Model\", var_name=\"Metric\", value_name=\"Value\")\n",
    "\n",
    "# Tracer le graphique\n",
    "plt.figure(figsize=(14, 6))\n",
    "\n",
    "# Graphique des MSE\n",
    "plt.subplot(1, 2, 1)\n",
    "sns.barplot(x='Model', y='Value', hue='Metric', data=performance_df[performance_df['Metric'] == 'MSE'])\n",
    "plt.title('Comparison of Mean Squared Error (MSE)')\n",
    "plt.ylabel('Mean Squared Error')\n",
    "plt.xlabel('Model')\n",
    "\n",
    "# Graphique des R²\n",
    "plt.subplot(1, 2, 2)\n",
    "sns.barplot(x='Model', y='Value', hue='Metric', data=performance_df[performance_df['Metric'] == 'R2'])\n",
    "plt.title('Comparison of R-squared (R²)')\n",
    "plt.ylabel('R² Score')\n",
    "plt.xlabel('Model')\n",
    "\n",
    "plt.tight_layout()\n",
    "plt.show()"
   ]
  },
  {
   "cell_type": "markdown",
   "metadata": {},
   "source": [
    "# Étape 4: Utilisation du meilleur modèle\n",
    "Utilisez le meilleur modèle pour faire des prédictions."
   ]
  },
  {
   "cell_type": "code",
   "execution_count": 22,
   "metadata": {},
   "outputs": [
    {
     "name": "stdout",
     "output_type": "stream",
     "text": [
      "Predicted Price: 150654166.66666666\n"
     ]
    }
   ],
   "source": [
    "# Exemple de nouvelle maison à prédire\n",
    "new_house = pd.DataFrame({\n",
    "    'Nombre_de_pieces': [5],\n",
    "    'Nombre_de_chambres': [3],\n",
    "    'Nombre_de_salles_de_bain': [2],\n",
    "    'metre_carre': [200],  # Exemple, à ajuster en fonction de vos données\n",
    "    'Ville_Abidjan': [1],  # Exemple, à ajuster en fonction de vos données\n",
    "    'Commune_Cocody': [26],  # Exemple, à ajuster en fonction de vos données\n",
    "    'Quartier_Angré': [0],  # Exemple, à ajuster en fonction de vos données\n",
    "    'Type_de_maison_Villa': [2],  # Exemple, à ajuster en fonction de vos données\n",
    "})\n",
    "\n",
    "# Ajouter des colonnes pour le TF-IDF\n",
    "tfidf_new_house = tfidf.transform(['description of the house'])\n",
    "tfidf_new_house_df = pd.DataFrame(tfidf_new_house.toarray(), columns=tfidf.get_feature_names_out())\n",
    "new_house = new_house.join(tfidf_new_house_df)\n",
    "\n",
    "# Reindex pour s'assurer que les colonnes correspondent\n",
    "new_house = new_house.reindex(columns=original_columns.drop('Prix_unitaire'), fill_value=0)\n",
    "\n",
    "# Standardisation des données\n",
    "new_house = scaler.transform(new_house)\n",
    "\n",
    "# Prédiction avec le meilleur modèle\n",
    "predicted_price = best_model.predict(new_house)\n",
    "print(f\"Predicted Price: {predicted_price[0]}\")\n"
   ]
  },
  {
   "cell_type": "markdown",
   "metadata": {},
   "source": [
    "## Pipeline"
   ]
  },
  {
   "cell_type": "markdown",
   "metadata": {},
   "source": [
    "Pour encapsuler l'ensemble du processus d'encodage, de transformation et de prédiction dans un pipeline, nous utiliserons Pipeline et ColumnTransformer de scikit-learn. Voici comment vous pouvez ajuster votre script :\n",
    "\n",
    "Étape 1 : Importation des bibliothèques nécessaires\n",
    "Étape 2 : Séparation des caractéristiques et de la variable ciblecatégorielles et textuelles.\n",
    "Étape 3 : Préparation des transformateurs pour les colonnes catégorielles et textuelles\n",
    "Étape 4 : Initialisation et entraînement des modèles\n",
    "Étape 5 : Sélection du meilleur modèle et affichage des performances\n",
    "Étape 6 : Création du pipeline complet pour le meilleur modèle\n",
    "Étape 7 : Fonction pour prédire le prix d'une nouvelle maison"
   ]
  },
  {
   "cell_type": "markdown",
   "metadata": {},
   "source": [
    "# Étape 1 : Importation des bibliothèques nécessaires\n",
    "\n",
    "Explication :\n",
    "Nous importons les bibliothèques nécessaires pour ncapsuler l'ensemble du processus d'encodage, de transformation et de prédiction dans un pipeline, nous utiliserons Pipeline et ColumnTransformer de scikit-learn."
   ]
  },
  {
   "cell_type": "code",
   "execution_count": 23,
   "metadata": {},
   "outputs": [],
   "source": [
    "from sklearn.preprocessing import StandardScaler, OneHotEncoder\n",
    "from sklearn.compose import ColumnTransformer\n",
    "from sklearn.pipeline import Pipeline"
   ]
  },
  {
   "cell_type": "markdown",
   "metadata": {},
   "source": [
    "# Étape 2 : Séparation des caractéristiques et de la variable cible\n",
    "\n",
    "Explication :\n",
    "Nous séparons les caractéristiques (features) de la variable cible (Prix_unitaire). X contient toutes les colonnes sauf Prix_unitaire, et y contient uniquement la colonne Prix_unitaire."
   ]
  },
  {
   "cell_type": "code",
   "execution_count": 24,
   "metadata": {},
   "outputs": [],
   "source": [
    "X = dfp.drop('Prix_unitaire', axis=1)\n",
    "y = dfp['Prix_unitaire']"
   ]
  },
  {
   "cell_type": "markdown",
   "metadata": {},
   "source": [
    "# Étape 3 : Préparation des transformateurs pour les colonnes catégorielles et textuelles\n",
    "\n",
    "Explication :\n",
    "Nous définissons les colonnes catégorielles, textuelles et numériques. ColumnTransformer est utilisé pour appliquer différentes transformations à différentes colonnes du DataFrame :\n",
    "\n",
    "StandardScaler pour les colonnes numériques.\n",
    "OneHotEncoder pour les colonnes catégorielles.\n",
    "TfidfVectorizer pour la colonne textuelle Descriptions."
   ]
  },
  {
   "cell_type": "code",
   "execution_count": 25,
   "metadata": {},
   "outputs": [],
   "source": [
    "# Préparation du transformateur pour les colonnes catégorielles et textuelles\n",
    "categorical_features = ['Ville', 'Commune', 'Quartier', 'Type_de_maison']\n",
    "text_features = ['Descriptions']\n",
    "numerical_features = ['Nombre_de_pieces', 'Nombre_de_chambres', 'Nombre_de_salles_de_bain', 'metre_carre']\n",
    "\n",
    "preprocessor = ColumnTransformer(\n",
    "    transformers=[\n",
    "        ('num', StandardScaler(), numerical_features),\n",
    "        ('cat', OneHotEncoder(handle_unknown='ignore'), categorical_features),\n",
    "        ('tfidf', TfidfVectorizer(max_features=100), 'Descriptions')\n",
    "    ])"
   ]
  },
  {
   "cell_type": "markdown",
   "metadata": {},
   "source": [
    "# Étape 4 : Initialisation et entraînement des modèles\n",
    "\n",
    "Explication :\n",
    "Nous initialisons trois modèles différents : Linear Regression, Random Forest Regressor et Support Vector Regressor. Pour chaque modèle, nous créons un pipeline complet qui inclut le préprocesseur et le modèle, divisons les données en ensembles d'entraînement et de test, entraînons le modèle, faisons des prédictions et évaluons les performances en utilisant plusieurs métriques (MSE, MAE, R², Accuracy).\n"
   ]
  },
  {
   "cell_type": "code",
   "execution_count": 26,
   "metadata": {},
   "outputs": [],
   "source": [
    "# Initialisation des modèles\n",
    "models = {\n",
    "    \"Linear Regression\": LinearRegression(),\n",
    "    \"Random Forest\": RandomForestRegressor(random_state=42),\n",
    "    \"Support Vector Regressor\": SVR()\n",
    "}\n",
    "\n",
    "# Entraînement et évaluation des modèles\n",
    "performance = {}\n",
    "\n",
    "for nom, model in models.items():\n",
    "    # Création du pipeline complet\n",
    "    pipeline = Pipeline(steps=[('preprocessor', preprocessor), ('model', model)])\n",
    "    \n",
    "    # Division des données\n",
    "    X_train, X_test, y_train, y_test = train_test_split(X, y, test_size=0.05, random_state=42)\n",
    "    \n",
    "    # Entraînement du modèle\n",
    "    pipeline.fit(X_train, y_train)\n",
    "    \n",
    "    # Prédictions\n",
    "    y_pred = pipeline.predict(X_test)\n",
    "    \n",
    "    # Évaluation des performances\n",
    "    mse = mean_squared_error(y_test, y_pred)\n",
    "    mae = mean_absolute_error(y_test, y_pred)\n",
    "    r2 = r2_score(y_test, y_pred)\n",
    "    accuracy = sum(abs(y_test - y_pred) <= 0.1 * y_test) / len(y_test)\n",
    "    \n",
    "    performance[nom] = {\"MSE\": mse, \"MAE\": mae, \"R2\": r2, \"Accuracy\": accuracy}\n"
   ]
  },
  {
   "cell_type": "markdown",
   "metadata": {},
   "source": [
    "# Étape 5 : Sélection du meilleur modèle et affichage des performances\n",
    "\n",
    "Explication :\n",
    "Nous sélectionnons le meilleur modèle basé sur le score R². Ensuite, nous affichons les performances de tous les modèles et spécifions le meilleur modèle."
   ]
  },
  {
   "cell_type": "code",
   "execution_count": 27,
   "metadata": {},
   "outputs": [
    {
     "name": "stdout",
     "output_type": "stream",
     "text": [
      "Linear Regression: MSE = 1.3870751490360627e+17, MAE = 202103981.43424338, R2 = -85.57045710944377, Accuracy = 0.5\n",
      "Random Forest: MSE = 150776733504818.56, MAE = 8984535.714285713, R2 = 0.9058968740803129, Accuracy = 0.8\n",
      "Support Vector Regressor: MSE = 1632499106208852.5, MAE = 29499984.951612435, R2 = -0.01887914258627088, Accuracy = 0.3\n",
      "Best model is: Random Forest with R2 = 0.9058968740803129\n"
     ]
    }
   ],
   "source": [
    "# Sélection du meilleur modèle\n",
    "best_model_name = max(performance, key=lambda k: performance[k]['R2'])\n",
    "best_model = models[best_model_name]\n",
    "\n",
    "# Affichage des performances\n",
    "for nom, metrics in performance.items():\n",
    "    print(f\"{nom}: MSE = {metrics['MSE']}, MAE = {metrics['MAE']}, R2 = {metrics['R2']}, Accuracy = {metrics['Accuracy']}\")\n",
    "print(f\"Best model is: {best_model_name} with R2 = {performance[best_model_name]['R2']}\")\n"
   ]
  },
  {
   "cell_type": "code",
   "execution_count": 28,
   "metadata": {},
   "outputs": [],
   "source": [
    "# import shap\n",
    "# # Importance des features pour la régression linéaire\n",
    "# if isinstance(best_model, LinearRegression):\n",
    "#     pipeline = Pipeline(steps=[('preprocessor', preprocessor), ('model', best_model)])\n",
    "#     pipeline.fit(X, y)\n",
    "#     model_coef = pipeline.named_steps['model'].coef_\n",
    "#     feature_names = numerical_features + list(pipeline.named_steps['preprocessor'].transformers_[1][1].get_feature_names_out(categorical_features))\n",
    "    \n",
    "#     feature_importance = pd.DataFrame({'Feature': feature_names, 'Importance': model_coef})\n",
    "#     feature_importance = feature_importance.sort_values(by='Importance', ascending=False)\n",
    "#     print(\"Feature importance for Linear Regression:\")\n",
    "#     print(feature_importance)\n",
    "\n",
    "# # Importance des features pour le Random Forest \n",
    "# if isinstance(best_model, RandomForestRegressor):\n",
    "#     pipeline = Pipeline(steps=[('preprocessor', preprocessor), ('model', best_model)])\n",
    "#     pipeline.fit(X, y)\n",
    "#     model_importances = pipeline.named_steps['model'].feature_importances_\n",
    "#     feature_names = numerical_features + list(pipeline.named_steps['preprocessor'].transformers_[1][1].get_feature_names_out(categorical_features))\n",
    "    \n",
    "#     feature_importance = pd.DataFrame({'Feature': feature_names, 'Importance': model_importances})\n",
    "#     feature_importance = feature_importance.sort_values(by='Importance', ascending=False)\n",
    "#     print(\"Feature importance for Random Forest:\")\n",
    "#     print(feature_importance)\n",
    "\n",
    "# # Utilisation de SHAP pour expliquer le modèle\n",
    "# pipeline = Pipeline(steps=[('preprocessor', preprocessor), ('model', best_model)])\n",
    "# pipeline.fit(X, y)\n",
    "# explainer = shap.Explainer(pipeline.named_steps['model'], pipeline.named_steps['preprocessor'].transform(X))\n",
    "# shap_values = explainer(pipeline.named_steps['preprocessor'].transform(X))\n",
    "\n",
    "# print(\"SHAP summary plot:\")\n",
    "# shap.summary_plot(shap_values, features=pipeline.named_steps['preprocessor'].transform(X), feature_names=numerical_features + list(pipeline.named_steps['preprocessor'].transformers_[1][1].get_feature_names_out(categorical_features)))"
   ]
  },
  {
   "cell_type": "markdown",
   "metadata": {},
   "source": [
    "# Étape 6 : Calculer les prédictions correctes et incorrectes"
   ]
  },
  {
   "cell_type": "code",
   "execution_count": 29,
   "metadata": {},
   "outputs": [
    {
     "name": "stdout",
     "output_type": "stream",
     "text": [
      "\n",
      "Correct Predictions:\n",
      "Actual: 105000000.0, Predicted: 94999982.44906592\n",
      "Actual: 90000000.0, Predicted: 94999967.82798855\n",
      "Actual: 95000000.0, Predicted: 95000001.44627132\n",
      "\n",
      "Incorrect Predictions:\n",
      "Actual: 70000000.0, Predicted: 94999968.7555384\n",
      "Actual: 65000000.0, Predicted: 94999968.5487542\n",
      "Actual: 60000000.0, Predicted: 94999970.5834683\n",
      "Actual: 200000000.0, Predicted: 95000007.17629594\n",
      "Actual: 70000000.0, Predicted: 94999967.05061339\n",
      "Actual: 125000000.0, Predicted: 95000006.70552385\n",
      "Actual: 125000000.0, Predicted: 94999998.36562411\n"
     ]
    }
   ],
   "source": [
    "# Calcul et affichage des prédictions correctes et incorrectes\n",
    "correct_predictions = []\n",
    "incorrect_predictions = []\n",
    "\n",
    "threshold = 0.1  # 10%\n",
    "\n",
    "for i in range(len(y_test)):\n",
    "    actual_value = y_test.iloc[i]\n",
    "    predicted_value = y_pred[i]\n",
    "    if abs(actual_value - predicted_value) <= threshold * actual_value:\n",
    "        correct_predictions.append((actual_value, predicted_value))\n",
    "    else:\n",
    "        incorrect_predictions.append((actual_value, predicted_value))\n",
    "\n",
    "print(\"\\nCorrect Predictions:\")\n",
    "for actual, predicted in correct_predictions:\n",
    "    print(f\"Actual: {actual}, Predicted: {predicted}\")\n",
    "\n",
    "print(\"\\nIncorrect Predictions:\")\n",
    "for actual, predicted in incorrect_predictions:\n",
    "    print(f\"Actual: {actual}, Predicted: {predicted}\")\n"
   ]
  },
  {
   "cell_type": "markdown",
   "metadata": {},
   "source": [
    "# Étape 7 : Création du pipeline complet pour le meilleur modèle\n",
    "\n",
    "Explication :\n",
    "Nous créons un pipeline complet pour le meilleur modèle sélectionné et réentraînons ce pipeline avec toutes les données disponibles."
   ]
  },
  {
   "cell_type": "code",
   "execution_count": 30,
   "metadata": {},
   "outputs": [
    {
     "data": {
      "text/html": [
       "<style>#sk-container-id-1 {color: black;}#sk-container-id-1 pre{padding: 0;}#sk-container-id-1 div.sk-toggleable {background-color: white;}#sk-container-id-1 label.sk-toggleable__label {cursor: pointer;display: block;width: 100%;margin-bottom: 0;padding: 0.3em;box-sizing: border-box;text-align: center;}#sk-container-id-1 label.sk-toggleable__label-arrow:before {content: \"▸\";float: left;margin-right: 0.25em;color: #696969;}#sk-container-id-1 label.sk-toggleable__label-arrow:hover:before {color: black;}#sk-container-id-1 div.sk-estimator:hover label.sk-toggleable__label-arrow:before {color: black;}#sk-container-id-1 div.sk-toggleable__content {max-height: 0;max-width: 0;overflow: hidden;text-align: left;background-color: #f0f8ff;}#sk-container-id-1 div.sk-toggleable__content pre {margin: 0.2em;color: black;border-radius: 0.25em;background-color: #f0f8ff;}#sk-container-id-1 input.sk-toggleable__control:checked~div.sk-toggleable__content {max-height: 200px;max-width: 100%;overflow: auto;}#sk-container-id-1 input.sk-toggleable__control:checked~label.sk-toggleable__label-arrow:before {content: \"▾\";}#sk-container-id-1 div.sk-estimator input.sk-toggleable__control:checked~label.sk-toggleable__label {background-color: #d4ebff;}#sk-container-id-1 div.sk-label input.sk-toggleable__control:checked~label.sk-toggleable__label {background-color: #d4ebff;}#sk-container-id-1 input.sk-hidden--visually {border: 0;clip: rect(1px 1px 1px 1px);clip: rect(1px, 1px, 1px, 1px);height: 1px;margin: -1px;overflow: hidden;padding: 0;position: absolute;width: 1px;}#sk-container-id-1 div.sk-estimator {font-family: monospace;background-color: #f0f8ff;border: 1px dotted black;border-radius: 0.25em;box-sizing: border-box;margin-bottom: 0.5em;}#sk-container-id-1 div.sk-estimator:hover {background-color: #d4ebff;}#sk-container-id-1 div.sk-parallel-item::after {content: \"\";width: 100%;border-bottom: 1px solid gray;flex-grow: 1;}#sk-container-id-1 div.sk-label:hover label.sk-toggleable__label {background-color: #d4ebff;}#sk-container-id-1 div.sk-serial::before {content: \"\";position: absolute;border-left: 1px solid gray;box-sizing: border-box;top: 0;bottom: 0;left: 50%;z-index: 0;}#sk-container-id-1 div.sk-serial {display: flex;flex-direction: column;align-items: center;background-color: white;padding-right: 0.2em;padding-left: 0.2em;position: relative;}#sk-container-id-1 div.sk-item {position: relative;z-index: 1;}#sk-container-id-1 div.sk-parallel {display: flex;align-items: stretch;justify-content: center;background-color: white;position: relative;}#sk-container-id-1 div.sk-item::before, #sk-container-id-1 div.sk-parallel-item::before {content: \"\";position: absolute;border-left: 1px solid gray;box-sizing: border-box;top: 0;bottom: 0;left: 50%;z-index: -1;}#sk-container-id-1 div.sk-parallel-item {display: flex;flex-direction: column;z-index: 1;position: relative;background-color: white;}#sk-container-id-1 div.sk-parallel-item:first-child::after {align-self: flex-end;width: 50%;}#sk-container-id-1 div.sk-parallel-item:last-child::after {align-self: flex-start;width: 50%;}#sk-container-id-1 div.sk-parallel-item:only-child::after {width: 0;}#sk-container-id-1 div.sk-dashed-wrapped {border: 1px dashed gray;margin: 0 0.4em 0.5em 0.4em;box-sizing: border-box;padding-bottom: 0.4em;background-color: white;}#sk-container-id-1 div.sk-label label {font-family: monospace;font-weight: bold;display: inline-block;line-height: 1.2em;}#sk-container-id-1 div.sk-label-container {text-align: center;}#sk-container-id-1 div.sk-container {/* jupyter's `normalize.less` sets `[hidden] { display: none; }` but bootstrap.min.css set `[hidden] { display: none !important; }` so we also need the `!important` here to be able to override the default hidden behavior on the sphinx rendered scikit-learn.org. See: https://github.com/scikit-learn/scikit-learn/issues/21755 */display: inline-block !important;position: relative;}#sk-container-id-1 div.sk-text-repr-fallback {display: none;}</style><div id=\"sk-container-id-1\" class=\"sk-top-container\"><div class=\"sk-text-repr-fallback\"><pre>Pipeline(steps=[(&#x27;preprocessor&#x27;,\n",
       "                 ColumnTransformer(transformers=[(&#x27;num&#x27;, StandardScaler(),\n",
       "                                                  [&#x27;Nombre_de_pieces&#x27;,\n",
       "                                                   &#x27;Nombre_de_chambres&#x27;,\n",
       "                                                   &#x27;Nombre_de_salles_de_bain&#x27;,\n",
       "                                                   &#x27;metre_carre&#x27;]),\n",
       "                                                 (&#x27;cat&#x27;,\n",
       "                                                  OneHotEncoder(handle_unknown=&#x27;ignore&#x27;),\n",
       "                                                  [&#x27;Ville&#x27;, &#x27;Commune&#x27;,\n",
       "                                                   &#x27;Quartier&#x27;,\n",
       "                                                   &#x27;Type_de_maison&#x27;]),\n",
       "                                                 (&#x27;tfidf&#x27;,\n",
       "                                                  TfidfVectorizer(max_features=100),\n",
       "                                                  &#x27;Descriptions&#x27;)])),\n",
       "                (&#x27;model&#x27;, RandomForestRegressor(random_state=42))])</pre><b>In a Jupyter environment, please rerun this cell to show the HTML representation or trust the notebook. <br />On GitHub, the HTML representation is unable to render, please try loading this page with nbviewer.org.</b></div><div class=\"sk-container\" hidden><div class=\"sk-item sk-dashed-wrapped\"><div class=\"sk-label-container\"><div class=\"sk-label sk-toggleable\"><input class=\"sk-toggleable__control sk-hidden--visually\" id=\"sk-estimator-id-1\" type=\"checkbox\" ><label for=\"sk-estimator-id-1\" class=\"sk-toggleable__label sk-toggleable__label-arrow\">Pipeline</label><div class=\"sk-toggleable__content\"><pre>Pipeline(steps=[(&#x27;preprocessor&#x27;,\n",
       "                 ColumnTransformer(transformers=[(&#x27;num&#x27;, StandardScaler(),\n",
       "                                                  [&#x27;Nombre_de_pieces&#x27;,\n",
       "                                                   &#x27;Nombre_de_chambres&#x27;,\n",
       "                                                   &#x27;Nombre_de_salles_de_bain&#x27;,\n",
       "                                                   &#x27;metre_carre&#x27;]),\n",
       "                                                 (&#x27;cat&#x27;,\n",
       "                                                  OneHotEncoder(handle_unknown=&#x27;ignore&#x27;),\n",
       "                                                  [&#x27;Ville&#x27;, &#x27;Commune&#x27;,\n",
       "                                                   &#x27;Quartier&#x27;,\n",
       "                                                   &#x27;Type_de_maison&#x27;]),\n",
       "                                                 (&#x27;tfidf&#x27;,\n",
       "                                                  TfidfVectorizer(max_features=100),\n",
       "                                                  &#x27;Descriptions&#x27;)])),\n",
       "                (&#x27;model&#x27;, RandomForestRegressor(random_state=42))])</pre></div></div></div><div class=\"sk-serial\"><div class=\"sk-item sk-dashed-wrapped\"><div class=\"sk-label-container\"><div class=\"sk-label sk-toggleable\"><input class=\"sk-toggleable__control sk-hidden--visually\" id=\"sk-estimator-id-2\" type=\"checkbox\" ><label for=\"sk-estimator-id-2\" class=\"sk-toggleable__label sk-toggleable__label-arrow\">preprocessor: ColumnTransformer</label><div class=\"sk-toggleable__content\"><pre>ColumnTransformer(transformers=[(&#x27;num&#x27;, StandardScaler(),\n",
       "                                 [&#x27;Nombre_de_pieces&#x27;, &#x27;Nombre_de_chambres&#x27;,\n",
       "                                  &#x27;Nombre_de_salles_de_bain&#x27;, &#x27;metre_carre&#x27;]),\n",
       "                                (&#x27;cat&#x27;, OneHotEncoder(handle_unknown=&#x27;ignore&#x27;),\n",
       "                                 [&#x27;Ville&#x27;, &#x27;Commune&#x27;, &#x27;Quartier&#x27;,\n",
       "                                  &#x27;Type_de_maison&#x27;]),\n",
       "                                (&#x27;tfidf&#x27;, TfidfVectorizer(max_features=100),\n",
       "                                 &#x27;Descriptions&#x27;)])</pre></div></div></div><div class=\"sk-parallel\"><div class=\"sk-parallel-item\"><div class=\"sk-item\"><div class=\"sk-label-container\"><div class=\"sk-label sk-toggleable\"><input class=\"sk-toggleable__control sk-hidden--visually\" id=\"sk-estimator-id-3\" type=\"checkbox\" ><label for=\"sk-estimator-id-3\" class=\"sk-toggleable__label sk-toggleable__label-arrow\">num</label><div class=\"sk-toggleable__content\"><pre>[&#x27;Nombre_de_pieces&#x27;, &#x27;Nombre_de_chambres&#x27;, &#x27;Nombre_de_salles_de_bain&#x27;, &#x27;metre_carre&#x27;]</pre></div></div></div><div class=\"sk-serial\"><div class=\"sk-item\"><div class=\"sk-estimator sk-toggleable\"><input class=\"sk-toggleable__control sk-hidden--visually\" id=\"sk-estimator-id-4\" type=\"checkbox\" ><label for=\"sk-estimator-id-4\" class=\"sk-toggleable__label sk-toggleable__label-arrow\">StandardScaler</label><div class=\"sk-toggleable__content\"><pre>StandardScaler()</pre></div></div></div></div></div></div><div class=\"sk-parallel-item\"><div class=\"sk-item\"><div class=\"sk-label-container\"><div class=\"sk-label sk-toggleable\"><input class=\"sk-toggleable__control sk-hidden--visually\" id=\"sk-estimator-id-5\" type=\"checkbox\" ><label for=\"sk-estimator-id-5\" class=\"sk-toggleable__label sk-toggleable__label-arrow\">cat</label><div class=\"sk-toggleable__content\"><pre>[&#x27;Ville&#x27;, &#x27;Commune&#x27;, &#x27;Quartier&#x27;, &#x27;Type_de_maison&#x27;]</pre></div></div></div><div class=\"sk-serial\"><div class=\"sk-item\"><div class=\"sk-estimator sk-toggleable\"><input class=\"sk-toggleable__control sk-hidden--visually\" id=\"sk-estimator-id-6\" type=\"checkbox\" ><label for=\"sk-estimator-id-6\" class=\"sk-toggleable__label sk-toggleable__label-arrow\">OneHotEncoder</label><div class=\"sk-toggleable__content\"><pre>OneHotEncoder(handle_unknown=&#x27;ignore&#x27;)</pre></div></div></div></div></div></div><div class=\"sk-parallel-item\"><div class=\"sk-item\"><div class=\"sk-label-container\"><div class=\"sk-label sk-toggleable\"><input class=\"sk-toggleable__control sk-hidden--visually\" id=\"sk-estimator-id-7\" type=\"checkbox\" ><label for=\"sk-estimator-id-7\" class=\"sk-toggleable__label sk-toggleable__label-arrow\">tfidf</label><div class=\"sk-toggleable__content\"><pre>Descriptions</pre></div></div></div><div class=\"sk-serial\"><div class=\"sk-item\"><div class=\"sk-estimator sk-toggleable\"><input class=\"sk-toggleable__control sk-hidden--visually\" id=\"sk-estimator-id-8\" type=\"checkbox\" ><label for=\"sk-estimator-id-8\" class=\"sk-toggleable__label sk-toggleable__label-arrow\">TfidfVectorizer</label><div class=\"sk-toggleable__content\"><pre>TfidfVectorizer(max_features=100)</pre></div></div></div></div></div></div></div></div><div class=\"sk-item\"><div class=\"sk-estimator sk-toggleable\"><input class=\"sk-toggleable__control sk-hidden--visually\" id=\"sk-estimator-id-9\" type=\"checkbox\" ><label for=\"sk-estimator-id-9\" class=\"sk-toggleable__label sk-toggleable__label-arrow\">RandomForestRegressor</label><div class=\"sk-toggleable__content\"><pre>RandomForestRegressor(random_state=42)</pre></div></div></div></div></div></div></div>"
      ],
      "text/plain": [
       "Pipeline(steps=[('preprocessor',\n",
       "                 ColumnTransformer(transformers=[('num', StandardScaler(),\n",
       "                                                  ['Nombre_de_pieces',\n",
       "                                                   'Nombre_de_chambres',\n",
       "                                                   'Nombre_de_salles_de_bain',\n",
       "                                                   'metre_carre']),\n",
       "                                                 ('cat',\n",
       "                                                  OneHotEncoder(handle_unknown='ignore'),\n",
       "                                                  ['Ville', 'Commune',\n",
       "                                                   'Quartier',\n",
       "                                                   'Type_de_maison']),\n",
       "                                                 ('tfidf',\n",
       "                                                  TfidfVectorizer(max_features=100),\n",
       "                                                  'Descriptions')])),\n",
       "                ('model', RandomForestRegressor(random_state=42))])"
      ]
     },
     "execution_count": 30,
     "metadata": {},
     "output_type": "execute_result"
    }
   ],
   "source": [
    "# Création du pipeline complet pour le meilleur modèle\n",
    "model_pipeline = Pipeline(steps=[('preprocessor', preprocessor), ('model', best_model)])\n",
    "\n",
    "# Réentraînement du pipeline avec toutes les données\n",
    "model_pipeline.fit(X, y)"
   ]
  },
  {
   "cell_type": "markdown",
   "metadata": {},
   "source": [
    "# Étape 8 : Fonction pour prédire le prix d'une nouvelle maison\n",
    "\n",
    "Explication :\n",
    "Nous définissons une fonction predict_price pour obtenir les informations d'une nouvelle maison via des entrées utilisateur, créer un DataFrame pour cette nouvelle maison, puis utiliser le pipeline model_pipeline pour prédire le prix de cette maison.\n",
    "\n",
    "Ce script encapsule l'ensemble du processus, de la connexion à la base de données à la prédiction du prix d'une nouvelle maison, en utilisant des pipelines pour un traitement et un entraînement efficaces."
   ]
  },
  {
   "cell_type": "code",
   "execution_count": 31,
   "metadata": {},
   "outputs": [
    {
     "ename": "ValueError",
     "evalue": "invalid literal for int() with base 10: 'jk'",
     "output_type": "error",
     "traceback": [
      "\u001b[1;31m---------------------------------------------------------------------------\u001b[0m",
      "\u001b[1;31mValueError\u001b[0m                                Traceback (most recent call last)",
      "Cell \u001b[1;32mIn[31], line 43\u001b[0m\n\u001b[0;32m     40\u001b[0m     \u001b[38;5;28mprint\u001b[39m(\u001b[38;5;124mf\u001b[39m\u001b[38;5;124m\"\u001b[39m\u001b[38;5;124mPredicted Price: \u001b[39m\u001b[38;5;132;01m{\u001b[39;00mpredicted_price[\u001b[38;5;241m0\u001b[39m]\u001b[38;5;132;01m:\u001b[39;00m\u001b[38;5;124m,.2f\u001b[39m\u001b[38;5;132;01m}\u001b[39;00m\u001b[38;5;124m FCFA\u001b[39m\u001b[38;5;124m\"\u001b[39m)\n\u001b[0;32m     42\u001b[0m \u001b[38;5;66;03m# Appel de la fonction pour prédire le prix d'une nouvelle maison\u001b[39;00m\n\u001b[1;32m---> 43\u001b[0m \u001b[43mpredict_price\u001b[49m\u001b[43m(\u001b[49m\u001b[43m)\u001b[49m\n",
      "Cell \u001b[1;32mIn[31], line 4\u001b[0m, in \u001b[0;36mpredict_price\u001b[1;34m()\u001b[0m\n\u001b[0;32m      2\u001b[0m \u001b[38;5;28;01mdef\u001b[39;00m \u001b[38;5;21mpredict_price\u001b[39m():\n\u001b[0;32m      3\u001b[0m     \u001b[38;5;66;03m# Obtenir les informations de l'utilisateur\u001b[39;00m\n\u001b[1;32m----> 4\u001b[0m     nombre_de_pieces \u001b[38;5;241m=\u001b[39m \u001b[38;5;28;43mint\u001b[39;49m\u001b[43m(\u001b[49m\u001b[38;5;28;43minput\u001b[39;49m\u001b[43m(\u001b[49m\u001b[38;5;124;43m\"\u001b[39;49m\u001b[38;5;124;43mNombre de pièces: \u001b[39;49m\u001b[38;5;124;43m\"\u001b[39;49m\u001b[43m)\u001b[49m\u001b[43m)\u001b[49m\n\u001b[0;32m      5\u001b[0m     nombre_de_chambres \u001b[38;5;241m=\u001b[39m \u001b[38;5;28mint\u001b[39m(\u001b[38;5;28minput\u001b[39m(\u001b[38;5;124m\"\u001b[39m\u001b[38;5;124mNombre de chambres: \u001b[39m\u001b[38;5;124m\"\u001b[39m))\n\u001b[0;32m      6\u001b[0m     nombre_de_salles_de_bain \u001b[38;5;241m=\u001b[39m \u001b[38;5;28mint\u001b[39m(\u001b[38;5;28minput\u001b[39m(\u001b[38;5;124m\"\u001b[39m\u001b[38;5;124mNombre de salles de bain: \u001b[39m\u001b[38;5;124m\"\u001b[39m))\n",
      "\u001b[1;31mValueError\u001b[0m: invalid literal for int() with base 10: 'jk'"
     ]
    }
   ],
   "source": [
    "# Fonction pour obtenir les informations de l'utilisateur et prédire le prix\n",
    "def predict_price():\n",
    "    # Obtenir les informations de l'utilisateur\n",
    "    nombre_de_pieces = int(input(\"Nombre de pièces: \"))\n",
    "    nombre_de_chambres = int(input(\"Nombre de chambres: \"))\n",
    "    nombre_de_salles_de_bain = int(input(\"Nombre de salles de bain: \"))\n",
    "    metre_carre = input(\"Mètres carrés: \")\n",
    "    ville = input(\"Ville: \")\n",
    "    commune = input(\"Commune: \")\n",
    "    quartier = input(\"Quartier: \")\n",
    "    type_de_maison = input(\"Type de maison: \")\n",
    "    description = input(\"Description de la maison: \")\n",
    "\n",
    "\n",
    "    \n",
    "    # Création du dataframe pour la nouvelle maison\n",
    "    new_house = pd.DataFrame({\n",
    "        'Nombre_de_pieces': [nombre_de_pieces],\n",
    "        'Nombre_de_chambres': [nombre_de_chambres],\n",
    "        'Nombre_de_salles_de_bain': [nombre_de_salles_de_bain],\n",
    "        'metre_carre': [metre_carre],\n",
    "        'Ville': [ville],\n",
    "        'Commune': [commune],\n",
    "        'Quartier': [quartier],\n",
    "        'Type_de_maison': [type_de_maison],\n",
    "        'Descriptions': [description]\n",
    "    })\n",
    "    \n",
    "    # Prédiction avec le pipeline\n",
    "    predicted_price = model_pipeline.predict(new_house)\n",
    "    print(f'Nombre_de_pieces: {nombre_de_pieces}' )\n",
    "    print(f'Nombre_de_chambres: {nombre_de_chambres}')\n",
    "    print(f'Nombre_de_salles_de_bain: {nombre_de_salles_de_bain}')\n",
    "    print(f'metre_carre: {metre_carre}')\n",
    "    print(f'Ville: {ville}')\n",
    "    print(f'Commune: {commune}')\n",
    "    print(f'Quartier: {quartier}')\n",
    "    print(f'Type_de_maison: {type_de_maison}')\n",
    "    print(f'Descriptions: {description}')\n",
    "    print(f\"Predicted Price: {predicted_price[0]:,.2f} FCFA\")\n",
    "\n",
    "# Appel de la fonction pour prédire le prix d'une nouvelle maison\n",
    "predict_price()\n"
   ]
  },
  {
   "cell_type": "code",
   "execution_count": null,
   "metadata": {},
   "outputs": [],
   "source": [
    "# import pickle"
   ]
  },
  {
   "cell_type": "code",
   "execution_count": null,
   "metadata": {},
   "outputs": [],
   "source": [
    "# #Enregister le model\n",
    "# pickle.dump(model_pipeline,open('model.pkl','wb'))"
   ]
  },
  {
   "cell_type": "code",
   "execution_count": null,
   "metadata": {},
   "outputs": [],
   "source": [
    "# # Sauvegarder le pipeline dans un fichier\n",
    "# with open('bet_pipeline.pkl', 'wb') as file:\n",
    "#     pickle.dump(model_pipeline, file)\n",
    "\n"
   ]
  },
  {
   "cell_type": "code",
   "execution_count": null,
   "metadata": {},
   "outputs": [],
   "source": [
    "# # Charger le pipeline à partir du fichier\n",
    "# with open('bet_pipeline.pkl', 'rb') as file:\n",
    "#     loaded_pipeline = pickle.load(file)"
   ]
  },
  {
   "cell_type": "code",
   "execution_count": null,
   "metadata": {},
   "outputs": [
    {
     "ename": "ValueError",
     "evalue": "could not convert string to float: 'Gagnoa'",
     "output_type": "error",
     "traceback": [
      "\u001b[1;31m---------------------------------------------------------------------------\u001b[0m",
      "\u001b[1;31mValueError\u001b[0m                                Traceback (most recent call last)",
      "\u001b[1;32m~\\AppData\\Local\\Temp\\ipykernel_25772\\970926323.py\u001b[0m in \u001b[0;36m?\u001b[1;34m()\u001b[0m\n\u001b[0;32m      1\u001b[0m \u001b[1;32mfrom\u001b[0m \u001b[0msklearn\u001b[0m\u001b[1;33m.\u001b[0m\u001b[0mlinear_model\u001b[0m \u001b[1;32mimport\u001b[0m \u001b[0mRidge\u001b[0m\u001b[1;33m,\u001b[0m \u001b[0mLasso\u001b[0m\u001b[1;33m\u001b[0m\u001b[1;33m\u001b[0m\u001b[0m\n\u001b[0;32m      2\u001b[0m \u001b[1;31m# --- Lasso Regression (L1 Régularisation)\u001b[0m\u001b[1;33m\u001b[0m\u001b[1;33m\u001b[0m\u001b[0m\n\u001b[0;32m      3\u001b[0m \u001b[0mlasso\u001b[0m \u001b[1;33m=\u001b[0m \u001b[0mLasso\u001b[0m\u001b[1;33m(\u001b[0m\u001b[0malpha\u001b[0m\u001b[1;33m=\u001b[0m\u001b[1;36m0.1\u001b[0m\u001b[1;33m)\u001b[0m  \u001b[1;31m# Vous pouvez ajuster le paramètre alpha pour réguler plus ou moins\u001b[0m\u001b[1;33m\u001b[0m\u001b[1;33m\u001b[0m\u001b[0m\n\u001b[1;32m----> 4\u001b[1;33m \u001b[0mlasso\u001b[0m\u001b[1;33m.\u001b[0m\u001b[0mfit\u001b[0m\u001b[1;33m(\u001b[0m\u001b[0mX_train\u001b[0m\u001b[1;33m,\u001b[0m \u001b[0my_train\u001b[0m\u001b[1;33m)\u001b[0m\u001b[1;33m\u001b[0m\u001b[1;33m\u001b[0m\u001b[0m\n\u001b[0m\u001b[0;32m      5\u001b[0m \u001b[1;33m\u001b[0m\u001b[0m\n\u001b[0;32m      6\u001b[0m \u001b[1;31m# Prédictions\u001b[0m\u001b[1;33m\u001b[0m\u001b[1;33m\u001b[0m\u001b[0m\n\u001b[0;32m      7\u001b[0m \u001b[0my_train_pred\u001b[0m \u001b[1;33m=\u001b[0m \u001b[0mlasso\u001b[0m\u001b[1;33m.\u001b[0m\u001b[0mpredict\u001b[0m\u001b[1;33m(\u001b[0m\u001b[0mX_train\u001b[0m\u001b[1;33m)\u001b[0m\u001b[1;33m\u001b[0m\u001b[1;33m\u001b[0m\u001b[0m\n",
      "\u001b[1;32mc:\\Users\\HPC\\anaconda3\\Lib\\site-packages\\sklearn\\base.py\u001b[0m in \u001b[0;36m?\u001b[1;34m(estimator, *args, **kwargs)\u001b[0m\n\u001b[0;32m   1147\u001b[0m                 skip_parameter_validation=(\n\u001b[0;32m   1148\u001b[0m                     \u001b[0mprefer_skip_nested_validation\u001b[0m \u001b[1;32mor\u001b[0m \u001b[0mglobal_skip_validation\u001b[0m\u001b[1;33m\u001b[0m\u001b[1;33m\u001b[0m\u001b[0m\n\u001b[0;32m   1149\u001b[0m                 )\n\u001b[0;32m   1150\u001b[0m             ):\n\u001b[1;32m-> 1151\u001b[1;33m                 \u001b[1;32mreturn\u001b[0m \u001b[0mfit_method\u001b[0m\u001b[1;33m(\u001b[0m\u001b[0mestimator\u001b[0m\u001b[1;33m,\u001b[0m \u001b[1;33m*\u001b[0m\u001b[0margs\u001b[0m\u001b[1;33m,\u001b[0m \u001b[1;33m**\u001b[0m\u001b[0mkwargs\u001b[0m\u001b[1;33m)\u001b[0m\u001b[1;33m\u001b[0m\u001b[1;33m\u001b[0m\u001b[0m\n\u001b[0m",
      "\u001b[1;32mc:\\Users\\HPC\\anaconda3\\Lib\\site-packages\\sklearn\\linear_model\\_coordinate_descent.py\u001b[0m in \u001b[0;36m?\u001b[1;34m(self, X, y, sample_weight, check_input)\u001b[0m\n\u001b[0;32m    901\u001b[0m         \u001b[1;31m# We expect X and y to be float64 or float32 Fortran ordered arrays\u001b[0m\u001b[1;33m\u001b[0m\u001b[1;33m\u001b[0m\u001b[0m\n\u001b[0;32m    902\u001b[0m         \u001b[1;31m# when bypassing checks\u001b[0m\u001b[1;33m\u001b[0m\u001b[1;33m\u001b[0m\u001b[0m\n\u001b[0;32m    903\u001b[0m         \u001b[1;32mif\u001b[0m \u001b[0mcheck_input\u001b[0m\u001b[1;33m:\u001b[0m\u001b[1;33m\u001b[0m\u001b[1;33m\u001b[0m\u001b[0m\n\u001b[0;32m    904\u001b[0m             \u001b[0mX_copied\u001b[0m \u001b[1;33m=\u001b[0m \u001b[0mself\u001b[0m\u001b[1;33m.\u001b[0m\u001b[0mcopy_X\u001b[0m \u001b[1;32mand\u001b[0m \u001b[0mself\u001b[0m\u001b[1;33m.\u001b[0m\u001b[0mfit_intercept\u001b[0m\u001b[1;33m\u001b[0m\u001b[1;33m\u001b[0m\u001b[0m\n\u001b[1;32m--> 905\u001b[1;33m             X, y = self._validate_data(\n\u001b[0m\u001b[0;32m    906\u001b[0m                 \u001b[0mX\u001b[0m\u001b[1;33m,\u001b[0m\u001b[1;33m\u001b[0m\u001b[1;33m\u001b[0m\u001b[0m\n\u001b[0;32m    907\u001b[0m                 \u001b[0my\u001b[0m\u001b[1;33m,\u001b[0m\u001b[1;33m\u001b[0m\u001b[1;33m\u001b[0m\u001b[0m\n\u001b[0;32m    908\u001b[0m                 \u001b[0maccept_sparse\u001b[0m\u001b[1;33m=\u001b[0m\u001b[1;34m\"csc\"\u001b[0m\u001b[1;33m,\u001b[0m\u001b[1;33m\u001b[0m\u001b[1;33m\u001b[0m\u001b[0m\n",
      "\u001b[1;32mc:\\Users\\HPC\\anaconda3\\Lib\\site-packages\\sklearn\\base.py\u001b[0m in \u001b[0;36m?\u001b[1;34m(self, X, y, reset, validate_separately, cast_to_ndarray, **check_params)\u001b[0m\n\u001b[0;32m    617\u001b[0m                 \u001b[1;32mif\u001b[0m \u001b[1;34m\"estimator\"\u001b[0m \u001b[1;32mnot\u001b[0m \u001b[1;32min\u001b[0m \u001b[0mcheck_y_params\u001b[0m\u001b[1;33m:\u001b[0m\u001b[1;33m\u001b[0m\u001b[1;33m\u001b[0m\u001b[0m\n\u001b[0;32m    618\u001b[0m                     \u001b[0mcheck_y_params\u001b[0m \u001b[1;33m=\u001b[0m \u001b[1;33m{\u001b[0m\u001b[1;33m**\u001b[0m\u001b[0mdefault_check_params\u001b[0m\u001b[1;33m,\u001b[0m \u001b[1;33m**\u001b[0m\u001b[0mcheck_y_params\u001b[0m\u001b[1;33m}\u001b[0m\u001b[1;33m\u001b[0m\u001b[1;33m\u001b[0m\u001b[0m\n\u001b[0;32m    619\u001b[0m                 \u001b[0my\u001b[0m \u001b[1;33m=\u001b[0m \u001b[0mcheck_array\u001b[0m\u001b[1;33m(\u001b[0m\u001b[0my\u001b[0m\u001b[1;33m,\u001b[0m \u001b[0minput_name\u001b[0m\u001b[1;33m=\u001b[0m\u001b[1;34m\"y\"\u001b[0m\u001b[1;33m,\u001b[0m \u001b[1;33m**\u001b[0m\u001b[0mcheck_y_params\u001b[0m\u001b[1;33m)\u001b[0m\u001b[1;33m\u001b[0m\u001b[1;33m\u001b[0m\u001b[0m\n\u001b[0;32m    620\u001b[0m             \u001b[1;32melse\u001b[0m\u001b[1;33m:\u001b[0m\u001b[1;33m\u001b[0m\u001b[1;33m\u001b[0m\u001b[0m\n\u001b[1;32m--> 621\u001b[1;33m                 \u001b[0mX\u001b[0m\u001b[1;33m,\u001b[0m \u001b[0my\u001b[0m \u001b[1;33m=\u001b[0m \u001b[0mcheck_X_y\u001b[0m\u001b[1;33m(\u001b[0m\u001b[0mX\u001b[0m\u001b[1;33m,\u001b[0m \u001b[0my\u001b[0m\u001b[1;33m,\u001b[0m \u001b[1;33m**\u001b[0m\u001b[0mcheck_params\u001b[0m\u001b[1;33m)\u001b[0m\u001b[1;33m\u001b[0m\u001b[1;33m\u001b[0m\u001b[0m\n\u001b[0m\u001b[0;32m    622\u001b[0m             \u001b[0mout\u001b[0m \u001b[1;33m=\u001b[0m \u001b[0mX\u001b[0m\u001b[1;33m,\u001b[0m \u001b[0my\u001b[0m\u001b[1;33m\u001b[0m\u001b[1;33m\u001b[0m\u001b[0m\n\u001b[0;32m    623\u001b[0m \u001b[1;33m\u001b[0m\u001b[0m\n\u001b[0;32m    624\u001b[0m         \u001b[1;32mif\u001b[0m \u001b[1;32mnot\u001b[0m \u001b[0mno_val_X\u001b[0m \u001b[1;32mand\u001b[0m \u001b[0mcheck_params\u001b[0m\u001b[1;33m.\u001b[0m\u001b[0mget\u001b[0m\u001b[1;33m(\u001b[0m\u001b[1;34m\"ensure_2d\"\u001b[0m\u001b[1;33m,\u001b[0m \u001b[1;32mTrue\u001b[0m\u001b[1;33m)\u001b[0m\u001b[1;33m:\u001b[0m\u001b[1;33m\u001b[0m\u001b[1;33m\u001b[0m\u001b[0m\n",
      "\u001b[1;32mc:\\Users\\HPC\\anaconda3\\Lib\\site-packages\\sklearn\\utils\\validation.py\u001b[0m in \u001b[0;36m?\u001b[1;34m(X, y, accept_sparse, accept_large_sparse, dtype, order, copy, force_all_finite, ensure_2d, allow_nd, multi_output, ensure_min_samples, ensure_min_features, y_numeric, estimator)\u001b[0m\n\u001b[0;32m   1143\u001b[0m         raise ValueError(\n\u001b[0;32m   1144\u001b[0m             \u001b[1;34mf\"{estimator_name} requires y to be passed, but the target y is None\"\u001b[0m\u001b[1;33m\u001b[0m\u001b[1;33m\u001b[0m\u001b[0m\n\u001b[0;32m   1145\u001b[0m         )\n\u001b[0;32m   1146\u001b[0m \u001b[1;33m\u001b[0m\u001b[0m\n\u001b[1;32m-> 1147\u001b[1;33m     X = check_array(\n\u001b[0m\u001b[0;32m   1148\u001b[0m         \u001b[0mX\u001b[0m\u001b[1;33m,\u001b[0m\u001b[1;33m\u001b[0m\u001b[1;33m\u001b[0m\u001b[0m\n\u001b[0;32m   1149\u001b[0m         \u001b[0maccept_sparse\u001b[0m\u001b[1;33m=\u001b[0m\u001b[0maccept_sparse\u001b[0m\u001b[1;33m,\u001b[0m\u001b[1;33m\u001b[0m\u001b[1;33m\u001b[0m\u001b[0m\n\u001b[0;32m   1150\u001b[0m         \u001b[0maccept_large_sparse\u001b[0m\u001b[1;33m=\u001b[0m\u001b[0maccept_large_sparse\u001b[0m\u001b[1;33m,\u001b[0m\u001b[1;33m\u001b[0m\u001b[1;33m\u001b[0m\u001b[0m\n",
      "\u001b[1;32mc:\\Users\\HPC\\anaconda3\\Lib\\site-packages\\sklearn\\utils\\validation.py\u001b[0m in \u001b[0;36m?\u001b[1;34m(array, accept_sparse, accept_large_sparse, dtype, order, copy, force_all_finite, ensure_2d, allow_nd, ensure_min_samples, ensure_min_features, estimator, input_name)\u001b[0m\n\u001b[0;32m    914\u001b[0m                         )\n\u001b[0;32m    915\u001b[0m                     \u001b[0marray\u001b[0m \u001b[1;33m=\u001b[0m \u001b[0mxp\u001b[0m\u001b[1;33m.\u001b[0m\u001b[0mastype\u001b[0m\u001b[1;33m(\u001b[0m\u001b[0marray\u001b[0m\u001b[1;33m,\u001b[0m \u001b[0mdtype\u001b[0m\u001b[1;33m,\u001b[0m \u001b[0mcopy\u001b[0m\u001b[1;33m=\u001b[0m\u001b[1;32mFalse\u001b[0m\u001b[1;33m)\u001b[0m\u001b[1;33m\u001b[0m\u001b[1;33m\u001b[0m\u001b[0m\n\u001b[0;32m    916\u001b[0m                 \u001b[1;32melse\u001b[0m\u001b[1;33m:\u001b[0m\u001b[1;33m\u001b[0m\u001b[1;33m\u001b[0m\u001b[0m\n\u001b[0;32m    917\u001b[0m                     \u001b[0marray\u001b[0m \u001b[1;33m=\u001b[0m \u001b[0m_asarray_with_order\u001b[0m\u001b[1;33m(\u001b[0m\u001b[0marray\u001b[0m\u001b[1;33m,\u001b[0m \u001b[0morder\u001b[0m\u001b[1;33m=\u001b[0m\u001b[0morder\u001b[0m\u001b[1;33m,\u001b[0m \u001b[0mdtype\u001b[0m\u001b[1;33m=\u001b[0m\u001b[0mdtype\u001b[0m\u001b[1;33m,\u001b[0m \u001b[0mxp\u001b[0m\u001b[1;33m=\u001b[0m\u001b[0mxp\u001b[0m\u001b[1;33m)\u001b[0m\u001b[1;33m\u001b[0m\u001b[1;33m\u001b[0m\u001b[0m\n\u001b[1;32m--> 918\u001b[1;33m             \u001b[1;32mexcept\u001b[0m \u001b[0mComplexWarning\u001b[0m \u001b[1;32mas\u001b[0m \u001b[0mcomplex_warning\u001b[0m\u001b[1;33m:\u001b[0m\u001b[1;33m\u001b[0m\u001b[1;33m\u001b[0m\u001b[0m\n\u001b[0m\u001b[0;32m    919\u001b[0m                 raise ValueError(\n\u001b[0;32m    920\u001b[0m                     \u001b[1;34m\"Complex data not supported\\n{}\\n\"\u001b[0m\u001b[1;33m.\u001b[0m\u001b[0mformat\u001b[0m\u001b[1;33m(\u001b[0m\u001b[0marray\u001b[0m\u001b[1;33m)\u001b[0m\u001b[1;33m\u001b[0m\u001b[1;33m\u001b[0m\u001b[0m\n\u001b[0;32m    921\u001b[0m                 ) from complex_warning\n",
      "\u001b[1;32mc:\\Users\\HPC\\anaconda3\\Lib\\site-packages\\sklearn\\utils\\_array_api.py\u001b[0m in \u001b[0;36m?\u001b[1;34m(array, dtype, order, copy, xp)\u001b[0m\n\u001b[0;32m    376\u001b[0m         \u001b[1;31m# Use NumPy API to support order\u001b[0m\u001b[1;33m\u001b[0m\u001b[1;33m\u001b[0m\u001b[0m\n\u001b[0;32m    377\u001b[0m         \u001b[1;32mif\u001b[0m \u001b[0mcopy\u001b[0m \u001b[1;32mis\u001b[0m \u001b[1;32mTrue\u001b[0m\u001b[1;33m:\u001b[0m\u001b[1;33m\u001b[0m\u001b[1;33m\u001b[0m\u001b[0m\n\u001b[0;32m    378\u001b[0m             \u001b[0marray\u001b[0m \u001b[1;33m=\u001b[0m \u001b[0mnumpy\u001b[0m\u001b[1;33m.\u001b[0m\u001b[0marray\u001b[0m\u001b[1;33m(\u001b[0m\u001b[0marray\u001b[0m\u001b[1;33m,\u001b[0m \u001b[0morder\u001b[0m\u001b[1;33m=\u001b[0m\u001b[0morder\u001b[0m\u001b[1;33m,\u001b[0m \u001b[0mdtype\u001b[0m\u001b[1;33m=\u001b[0m\u001b[0mdtype\u001b[0m\u001b[1;33m)\u001b[0m\u001b[1;33m\u001b[0m\u001b[1;33m\u001b[0m\u001b[0m\n\u001b[0;32m    379\u001b[0m         \u001b[1;32melse\u001b[0m\u001b[1;33m:\u001b[0m\u001b[1;33m\u001b[0m\u001b[1;33m\u001b[0m\u001b[0m\n\u001b[1;32m--> 380\u001b[1;33m             \u001b[0marray\u001b[0m \u001b[1;33m=\u001b[0m \u001b[0mnumpy\u001b[0m\u001b[1;33m.\u001b[0m\u001b[0masarray\u001b[0m\u001b[1;33m(\u001b[0m\u001b[0marray\u001b[0m\u001b[1;33m,\u001b[0m \u001b[0morder\u001b[0m\u001b[1;33m=\u001b[0m\u001b[0morder\u001b[0m\u001b[1;33m,\u001b[0m \u001b[0mdtype\u001b[0m\u001b[1;33m=\u001b[0m\u001b[0mdtype\u001b[0m\u001b[1;33m)\u001b[0m\u001b[1;33m\u001b[0m\u001b[1;33m\u001b[0m\u001b[0m\n\u001b[0m\u001b[0;32m    381\u001b[0m \u001b[1;33m\u001b[0m\u001b[0m\n\u001b[0;32m    382\u001b[0m         \u001b[1;31m# At this point array is a NumPy ndarray. We convert it to an array\u001b[0m\u001b[1;33m\u001b[0m\u001b[1;33m\u001b[0m\u001b[0m\n\u001b[0;32m    383\u001b[0m         \u001b[1;31m# container that is consistent with the input's namespace.\u001b[0m\u001b[1;33m\u001b[0m\u001b[1;33m\u001b[0m\u001b[0m\n",
      "\u001b[1;32mc:\\Users\\HPC\\anaconda3\\Lib\\site-packages\\pandas\\core\\generic.py\u001b[0m in \u001b[0;36m?\u001b[1;34m(self, dtype)\u001b[0m\n\u001b[0;32m   1996\u001b[0m     \u001b[1;32mdef\u001b[0m \u001b[0m__array__\u001b[0m\u001b[1;33m(\u001b[0m\u001b[0mself\u001b[0m\u001b[1;33m,\u001b[0m \u001b[0mdtype\u001b[0m\u001b[1;33m:\u001b[0m \u001b[0mnpt\u001b[0m\u001b[1;33m.\u001b[0m\u001b[0mDTypeLike\u001b[0m \u001b[1;33m|\u001b[0m \u001b[1;32mNone\u001b[0m \u001b[1;33m=\u001b[0m \u001b[1;32mNone\u001b[0m\u001b[1;33m)\u001b[0m \u001b[1;33m->\u001b[0m \u001b[0mnp\u001b[0m\u001b[1;33m.\u001b[0m\u001b[0mndarray\u001b[0m\u001b[1;33m:\u001b[0m\u001b[1;33m\u001b[0m\u001b[1;33m\u001b[0m\u001b[0m\n\u001b[0;32m   1997\u001b[0m         \u001b[0mvalues\u001b[0m \u001b[1;33m=\u001b[0m \u001b[0mself\u001b[0m\u001b[1;33m.\u001b[0m\u001b[0m_values\u001b[0m\u001b[1;33m\u001b[0m\u001b[1;33m\u001b[0m\u001b[0m\n\u001b[1;32m-> 1998\u001b[1;33m         \u001b[0marr\u001b[0m \u001b[1;33m=\u001b[0m \u001b[0mnp\u001b[0m\u001b[1;33m.\u001b[0m\u001b[0masarray\u001b[0m\u001b[1;33m(\u001b[0m\u001b[0mvalues\u001b[0m\u001b[1;33m,\u001b[0m \u001b[0mdtype\u001b[0m\u001b[1;33m=\u001b[0m\u001b[0mdtype\u001b[0m\u001b[1;33m)\u001b[0m\u001b[1;33m\u001b[0m\u001b[1;33m\u001b[0m\u001b[0m\n\u001b[0m\u001b[0;32m   1999\u001b[0m         if (\n\u001b[0;32m   2000\u001b[0m             \u001b[0mastype_is_view\u001b[0m\u001b[1;33m(\u001b[0m\u001b[0mvalues\u001b[0m\u001b[1;33m.\u001b[0m\u001b[0mdtype\u001b[0m\u001b[1;33m,\u001b[0m \u001b[0marr\u001b[0m\u001b[1;33m.\u001b[0m\u001b[0mdtype\u001b[0m\u001b[1;33m)\u001b[0m\u001b[1;33m\u001b[0m\u001b[1;33m\u001b[0m\u001b[0m\n\u001b[0;32m   2001\u001b[0m             \u001b[1;32mand\u001b[0m \u001b[0musing_copy_on_write\u001b[0m\u001b[1;33m(\u001b[0m\u001b[1;33m)\u001b[0m\u001b[1;33m\u001b[0m\u001b[1;33m\u001b[0m\u001b[0m\n",
      "\u001b[1;31mValueError\u001b[0m: could not convert string to float: 'Gagnoa'"
     ]
    }
   ],
   "source": [
    "# from sklearn.linear_model import Ridge, Lasso\n",
    "# # --- Lasso Regression (L1 Régularisation)\n",
    "# lasso = Lasso(alpha=0.1)  # Vous pouvez ajuster le paramètre alpha pour réguler plus ou moins\n",
    "# lasso.fit(X_train, y_train)\n",
    "\n",
    "# # Prédictions\n",
    "# y_train_pred = lasso.predict(X_train)\n",
    "# y_test_pred = lasso.predict(X_test)\n",
    "\n",
    "# # Évaluer les performances\n",
    "# train_mse = mean_squared_error(y_train, y_train_pred)\n",
    "# test_mse = mean_squared_error(y_test, y_test_pred)\n",
    "# train_r2 = r2_score(y_train, y_train_pred)\n",
    "# test_r2 = r2_score(y_test, y_test_pred)\n",
    "\n",
    "# print(f'Lasso Regression - Train MSE: {train_mse}, Test MSE: {test_mse}')\n",
    "# print(f'Lasso Regression - Train R2: {train_r2}, Test R2: {test_r2}')\n",
    "\n",
    "# # --- Ridge Regression (L2 Régularisation)\n",
    "# from sklearn.linear_model import Ridge\n",
    "\n",
    "# ridge = Ridge(alpha=1.0)  # Vous pouvez ajuster le paramètre alpha pour réguler plus ou moins\n",
    "# ridge.fit(X_train, y_train)\n",
    "\n",
    "# # Prédictions\n",
    "# y_train_pred = ridge.predict(X_train)\n",
    "# y_test_pred = ridge.predict(X_test)\n",
    "\n",
    "# # Évaluer les performances\n",
    "# train_mse = mean_squared_error(y_train, y_train_pred)\n",
    "# test_mse = mean_squared_error(y_test, y_test_pred)\n",
    "# train_r2 = r2_score(y_train, y_train_pred)\n",
    "# test_r2 = r2_score(y_test, y_test_pred)\n",
    "\n",
    "# print(f'Ridge Regression - Train MSE: {train_mse}, Test MSE: {test_mse}')\n",
    "# print(f'Ridge Regression - Train R2: {train_r2}, TestR2: {test_r2}')"
   ]
  },
  {
   "cell_type": "code",
   "execution_count": null,
   "metadata": {},
   "outputs": [],
   "source": [
    "# from sklearn.model_selection import  cross_val_score\n",
    "# scores = cross_val_score(model, X, y, scoring='neg_mean_squared_error', cv=5)\n",
    "# mean_score = -scores.mean()\n",
    "\n",
    "# print(f'Cross-validated MSE: {mean_score}')"
   ]
  }
 ],
 "metadata": {
  "kernelspec": {
   "display_name": "base",
   "language": "python",
   "name": "python3"
  },
  "language_info": {
   "codemirror_mode": {
    "name": "ipython",
    "version": 3
   },
   "file_extension": ".py",
   "mimetype": "text/x-python",
   "name": "python",
   "nbconvert_exporter": "python",
   "pygments_lexer": "ipython3",
   "version": "3.11.5"
  }
 },
 "nbformat": 4,
 "nbformat_minor": 2
}
